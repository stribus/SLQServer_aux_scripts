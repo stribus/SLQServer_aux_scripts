{
    "metadata": {
        "kernelspec": {
            "name": "SQL",
            "display_name": "SQL",
            "language": "sql"
        },
        "language_info": {
            "name": "sql",
            "version": ""
        }
    },
    "nbformat_minor": 2,
    "nbformat": 4,
    "cells": [
        {
            "cell_type": "markdown",
            "source": [
                "# Monitoramento do desempenho do Banco de Dados SQL do Microsoft Azure e da Instância Gerenciada de SQL usando DMV"
            ],
            "metadata": {
                "azdata_cell_guid": "da7caeb0-b1d0-48b6-9b07-3487483b761d"
            }
        },
        {
            "cell_type": "markdown",
            "source": [
                "O Banco de Dados SQL do Microsoft Azure e a Instância Gerenciada de SQL do Azure permitem um subconjunto de modos de exibições de gerenciamento dinâmico para diagnosticar problemas de desempenho, que podem ser causados por consultas bloqueadas ou de execução longa, gargalos de recursos, planos de consulta insatisfatórios e assim por diante. Este artigo fornece informações sobre como detectar problemas de desempenho comuns usando exibições de gerenciamento dinâmico.\n",
                "\n",
                "O Banco de Dados SQL do Microsoft Azure e a Instância Gerenciada de SQL do Azure dão suporte parcial a três categorias de exibições de gerenciamento dinâmico:\n",
                "\n",
                "- Exibições de gerenciamento dinâmico relacionadas ao banco de dados.\n",
                "- Exibições de gerenciamento dinâmico relacionadas à execução.\n",
                "- Exibições de gerenciamento dinâmico relacionadas à transação.\n",
                "\n",
                "Para obter informações detalhadas sobre exibições de gerenciamento dinâmico, consulte [exibições e funções de gerenciamento dinâmico (Transact-SQL)](https://docs.microsoft.com/pt-br/sql/relational-databases/system-dynamic-management-views/system-dynamic-management-views)."
            ],
            "metadata": {
                "azdata_cell_guid": "55beb4bb-eb5b-4c06-8fc3-eaca517e6abb"
            }
        },
        {
            "cell_type": "markdown",
            "source": [
                "## Monitorar com insights de SQL\n",
                "\n",
                "O [Azure Monitor insights do SQL](https://docs.microsoft.com/pt-br/azure/azure-monitor/insights/sql-insights-overview) é uma ferramenta para monitorar Instâncias Gerenciadas de SQL do Azure, Banco de Dados SQL do Azure e Instâncias do SQL Server em VMs do SQL do Azure. Esse serviço usa um agente remoto para capturar dados de DMVs (exibições de gerenciamento dinâmico) e roteia os dados para o Azure Log Analytics, onde podem ser monitorados e analisados. Você pode exibir esses dados do [Azure Monitor](https://docs.microsoft.com/pt-br/azure/azure-monitor/overview) nos modos de exibição fornecidos ou acessar os dados de log diretamente para executar consultas e analisar tendências. Para começar a usar o Azure Monitor insights do SQL, consulte [habilitar insights do SQL](https://docs.microsoft.com/pt-br/azure/azure-monitor/insights/sql-insights-enable)."
            ],
            "metadata": {
                "azdata_cell_guid": "5860bf10-99b7-459c-b4d7-25e43d8d2815"
            }
        },
        {
            "cell_type": "markdown",
            "source": [
                "## Permissões\n",
                "\n",
                "No Banco de Dados SQL do Azure, consultar uma exibição de gerenciamento dinâmico requer permissões VIEW DATABASE STATE. A permissão VIEW DATABASE STATE retorna informações sobre todos os objetos no banco de dados atual. Para conceder a permissão VIEW DATABASE STATE a um usuário específico do banco de dados, execute a seguinte consulta:"
            ],
            "metadata": {
                "azdata_cell_guid": "9794c295-76a9-4ff6-b3ce-b2f6984f1cba"
            }
        },
        {
            "cell_type": "code",
            "source": [
                "GRANT VIEW DATABASE STATE TO database_user;"
            ],
            "metadata": {
                "azdata_cell_guid": "8f1150a1-26ea-4011-839d-149ca60b12cb",
                "tags": [
                    "hide_input"
                ]
            },
            "outputs": [],
            "execution_count": null
        },
        {
            "cell_type": "markdown",
            "source": [
                "No Instância Gerenciada de SQL do Azure, consultar uma exibição de gerenciamento dinâmico requer permissões VIEW SERVER STATE. Para saber mais, veja [exibições de gerenciamento dinâmico do sistema](https://docs.microsoft.com/pt-br/sql/relational-databases/system-dynamic-management-views/system-dynamic-management-views#required-permissions).\n",
                "\n",
                "Em uma instância do SQL Server e na Instância Gerenciada de SQL do Azure, as exibições de gerenciamento dinâmico retornam informações de estado do servidor. Em um Banco de Dados SQL do Azure, elas retornam informações relacionadas apenas ao seu banco de dados lógico atual.\n",
                "\n",
                "Este artigo contém uma coleção de consultas DMV que você pode executar usando SQL Server Management Studio ou Azure Data Studio para detectar os seguintes tipos de problemas de desempenho de consulta:\n",
                "\n",
                "- [Identificando consultas relacionadas ao consumo excessivo de CPU](https://docs.microsoft.com/pt-br/azure/azure-sql/database/monitoring-with-dmvs#identify-cpu-performance-issues)\n",
                "- [PAGELATCH\\_ \\* e WRITE\\_LOG esperas relacionadas aos gargalos de e/s](https://docs.microsoft.com/pt-br/azure/azure-sql/database/monitoring-with-dmvs#identify-io-performance-issues)\n",
                "- [PAGELATCH\\_ \\* esperas causaram contenção de bytTempDB](https://docs.microsoft.com/pt-br/azure/azure-sql/database/monitoring-with-dmvs#identify-tempdb-performance-issues)\n",
                "- [RESOURCE\\_SEMAHPORE esperas causadas por problemas de espera de concessão de memória](https://docs.microsoft.com/pt-br/azure/azure-sql/database/monitoring-with-dmvs#identify-memory-grant-wait-performance-issues)\n",
                "- [Identificando tamanhos de banco de dados e objeto](https://docs.microsoft.com/pt-br/azure/azure-sql/database/monitoring-with-dmvs#calculating-database-and-objects-sizes)\n",
                "- [Recuperando informações sobre sessões ativas](https://docs.microsoft.com/pt-br/azure/azure-sql/database/monitoring-with-dmvs#monitoring-connections)\n",
                "- [Recuperar informações de uso de recursos de todo o sistema e de banco de dados](https://docs.microsoft.com/pt-br/azure/azure-sql/database/monitoring-with-dmvs#monitor-resource-use)\n",
                "- [Recuperando informações de desempenho de consulta](https://docs.microsoft.com/pt-br/azure/azure-sql/database/monitoring-with-dmvs#monitoring-query-performance)"
            ],
            "metadata": {
                "azdata_cell_guid": "06608102-7fe2-46e7-8e7a-d3c06ed8fcb5"
            }
        },
        {
            "cell_type": "markdown",
            "source": [
                "## Identificar problemas de desempenho da CPU\n",
                "\n",
                "Se o consumo de CPU estiver acima de 80% por longos períodos de tempo, considere as seguintes etapas de solução de problemas:\n",
                "\n",
                "### [](https://docs.microsoft.com/pt-br/azure/azure-sql/database/monitoring-with-dmvs#the-cpu-issue-is-occurring-now)O problema de CPU está ocorrendo agora\n",
                "\n",
                "Se o problema está ocorrendo no momento, há dois cenários possíveis:\n",
                "\n",
                "#### [](https://docs.microsoft.com/pt-br/azure/azure-sql/database/monitoring-with-dmvs#many-individual-queries-that-cumulatively-consume-high-cpu)Muitas consultas individuais que consomem cumulativamente alta utilização da CPU\n",
                "\n",
                "Use a consulta a seguir para identificar os hashes de consulta top:"
            ],
            "metadata": {
                "azdata_cell_guid": "3e8634cd-5cac-4cc3-bf3a-c4f8c6179dec"
            }
        },
        {
            "cell_type": "code",
            "source": [
                "PRINT '-- top 10 Active CPU Consuming Queries (aggregated)--';\r\n",
                "SELECT TOP 10 GETDATE() runtime, *\r\n",
                "FROM (SELECT query_stats.query_hash, SUM(query_stats.cpu_time) 'Total_Request_Cpu_Time_Ms', SUM(logical_reads) 'Total_Request_Logical_Reads', MIN(start_time) 'Earliest_Request_start_Time', COUNT(*) 'Number_Of_Requests', SUBSTRING(REPLACE(REPLACE(MIN(query_stats.statement_text), CHAR(10), ' '), CHAR(13), ' '), 1, 256) AS \"Statement_Text\"\r\n",
                "    FROM (SELECT req.*, SUBSTRING(ST.text, (req.statement_start_offset / 2)+1, ((CASE statement_end_offset WHEN -1 THEN DATALENGTH(ST.text)ELSE req.statement_end_offset END-req.statement_start_offset)/ 2)+1) AS statement_text\r\n",
                "          FROM sys.dm_exec_requests AS req\r\n",
                "                CROSS APPLY sys.dm_exec_sql_text(req.sql_handle) AS ST ) AS query_stats\r\n",
                "    GROUP BY query_hash) AS t\r\n",
                "ORDER BY Total_Request_Cpu_Time_Ms DESC;"
            ],
            "metadata": {
                "azdata_cell_guid": "9155975a-4a63-49a7-9ec4-1f2da82a4ed7",
                "tags": [
                    "hide_input"
                ]
            },
            "outputs": [
                {
                    "output_type": "display_data",
                    "data": {
                        "text/html": "-- top 10 Active CPU Consuming Queries (aggregated)--"
                    },
                    "metadata": {}
                },
                {
                    "output_type": "display_data",
                    "data": {
                        "text/html": "(7 rows affected)"
                    },
                    "metadata": {}
                },
                {
                    "output_type": "display_data",
                    "data": {
                        "text/html": "Total execution time: 00:00:09.230"
                    },
                    "metadata": {}
                },
                {
                    "output_type": "execute_result",
                    "execution_count": 1,
                    "data": {
                        "application/vnd.dataresource+json": {
                            "schema": {
                                "fields": [
                                    {
                                        "name": "runtime"
                                    },
                                    {
                                        "name": "query_hash"
                                    },
                                    {
                                        "name": "Total_Request_Cpu_Time_Ms"
                                    },
                                    {
                                        "name": "Total_Request_Logical_Reads"
                                    },
                                    {
                                        "name": "Earliest_Request_start_Time"
                                    },
                                    {
                                        "name": "Number_Of_Requests"
                                    },
                                    {
                                        "name": "Statement_Text"
                                    }
                                ]
                            },
                            "data": [
                                {
                                    "0": "2021-11-05 12:37:29.900",
                                    "1": "0x8483E126EE5CA053",
                                    "2": "1166",
                                    "3": "5",
                                    "4": "2021-11-05 11:38:47.243",
                                    "5": "1",
                                    "6": "SELECT * FROM RS_PESSOAS_PERFIS_LOG  \tWHERE CODIGOPESSOA IN (2178032, 2742478, 2707351)  \tORDER BY DATAENVIO DESC"
                                },
                                {
                                    "0": "2021-11-05 12:37:29.900",
                                    "1": "0x809C532871BDBB4B",
                                    "2": "146",
                                    "3": "658",
                                    "4": "2021-11-05 12:34:34.930",
                                    "5": "1",
                                    "6": "SELECT  \tStatus_Matricula  \t, SUM(Qtd_Matriculas) AS Qtd_Matriculas  \t, SUM(Qtd_Matriculas_Ajuste) AS Qtd_Matriculas_Ajuste  \t, SUM(Qtd_Matriculas_Iniciadas) AS Qtd_Matriculas_Iniciadas  \t, SUM(Qtd_Matriculas + Qtd_Matriculas_Ajuste) AS total  into   \t #tm"
                                },
                                {
                                    "0": "2021-11-05 12:37:29.900",
                                    "1": "0x9B31741EA6739328",
                                    "2": "30",
                                    "3": "22",
                                    "4": "2021-11-05 12:37:19.947",
                                    "5": "1",
                                    "6": "SELECT dtb.name AS [Name], dtb.database_id AS [ID], CAST(has_dbaccess(dtb.name) AS bit) AS [IsAccessible] FROM master.sys.databases AS dtb ORDER BY [Name] ASC"
                                },
                                {
                                    "0": "2021-11-05 12:37:29.900",
                                    "1": "0x500A9CB8368B1588",
                                    "2": "17",
                                    "3": "695",
                                    "4": "2021-11-05 12:36:41.153",
                                    "5": "1",
                                    "6": "SELECT top 200 TURMADATAINICIO, TURMADATATERMINO, UNIDADE, CURSO, ALUNODATAMATRICULA, HISTORICO FROM FCO_NOP_002A where ALUNOCPF = '701.635.887-91'"
                                },
                                {
                                    "0": "2021-11-05 12:37:29.900",
                                    "1": "0x270002CDB8A02040",
                                    "2": "13",
                                    "3": "416",
                                    "4": "2021-11-05 12:37:20.737",
                                    "5": "1",
                                    "6": "SELECT TOP 10 GETDATE() runtime, *  FROM (SELECT query_stats.query_hash, SUM(query_stats.cpu_time) 'Total_Request_Cpu_Time_Ms', SUM(logical_reads) 'Total_Request_Logical_Reads', MIN(start_time) 'Earliest_Request_start_Time', COUNT(*) 'Number_Of_Requests', "
                                },
                                {
                                    "0": "2021-11-05 12:37:29.900",
                                    "1": "0x945DE7387E25D067",
                                    "2": "7",
                                    "3": "118",
                                    "4": "2021-11-05 12:37:27.153",
                                    "5": "1",
                                    "6": "WITH last_hist_rec AS              (              SELECT ROW_NUMBER() OVER              (PARTITION BY job_id ORDER BY run_date DESC, run_time DESC) AS [RowNum]              , job_id              , run_date AS [last_run_date]              , run_time AS [las"
                                },
                                {
                                    "0": "2021-11-05 12:37:29.900",
                                    "1": "NULL",
                                    "2": "0",
                                    "3": "24",
                                    "4": "2021-10-15 16:30:58.350",
                                    "5": "1",
                                    "6": "sp_server_diagnostics"
                                }
                            ]
                        },
                        "text/html": "<table><tr><th>runtime</th><th>query_hash</th><th>Total_Request_Cpu_Time_Ms</th><th>Total_Request_Logical_Reads</th><th>Earliest_Request_start_Time</th><th>Number_Of_Requests</th><th>Statement_Text</th></tr><tr><td>2021-11-05 12:37:29.900</td><td>0x8483E126EE5CA053</td><td>1166</td><td>5</td><td>2021-11-05 11:38:47.243</td><td>1</td><td>SELECT * FROM RS_PESSOAS_PERFIS_LOG  \tWHERE CODIGOPESSOA IN (2178032, 2742478, 2707351)  \tORDER BY DATAENVIO DESC</td></tr><tr><td>2021-11-05 12:37:29.900</td><td>0x809C532871BDBB4B</td><td>146</td><td>658</td><td>2021-11-05 12:34:34.930</td><td>1</td><td>SELECT  \tStatus_Matricula  \t, SUM(Qtd_Matriculas) AS Qtd_Matriculas  \t, SUM(Qtd_Matriculas_Ajuste) AS Qtd_Matriculas_Ajuste  \t, SUM(Qtd_Matriculas_Iniciadas) AS Qtd_Matriculas_Iniciadas  \t, SUM(Qtd_Matriculas + Qtd_Matriculas_Ajuste) AS total  into   \t #tm</td></tr><tr><td>2021-11-05 12:37:29.900</td><td>0x9B31741EA6739328</td><td>30</td><td>22</td><td>2021-11-05 12:37:19.947</td><td>1</td><td>SELECT dtb.name AS [Name], dtb.database_id AS [ID], CAST(has_dbaccess(dtb.name) AS bit) AS [IsAccessible] FROM master.sys.databases AS dtb ORDER BY [Name] ASC</td></tr><tr><td>2021-11-05 12:37:29.900</td><td>0x500A9CB8368B1588</td><td>17</td><td>695</td><td>2021-11-05 12:36:41.153</td><td>1</td><td>SELECT top 200 TURMADATAINICIO, TURMADATATERMINO, UNIDADE, CURSO, ALUNODATAMATRICULA, HISTORICO FROM FCO_NOP_002A where ALUNOCPF = '701.635.887-91'</td></tr><tr><td>2021-11-05 12:37:29.900</td><td>0x270002CDB8A02040</td><td>13</td><td>416</td><td>2021-11-05 12:37:20.737</td><td>1</td><td>SELECT TOP 10 GETDATE() runtime, *  FROM (SELECT query_stats.query_hash, SUM(query_stats.cpu_time) 'Total_Request_Cpu_Time_Ms', SUM(logical_reads) 'Total_Request_Logical_Reads', MIN(start_time) 'Earliest_Request_start_Time', COUNT(*) 'Number_Of_Requests', </td></tr><tr><td>2021-11-05 12:37:29.900</td><td>0x945DE7387E25D067</td><td>7</td><td>118</td><td>2021-11-05 12:37:27.153</td><td>1</td><td>WITH last_hist_rec AS              (              SELECT ROW_NUMBER() OVER              (PARTITION BY job_id ORDER BY run_date DESC, run_time DESC) AS [RowNum]              , job_id              , run_date AS [last_run_date]              , run_time AS [las</td></tr><tr><td>2021-11-05 12:37:29.900</td><td>NULL</td><td>0</td><td>24</td><td>2021-10-15 16:30:58.350</td><td>1</td><td>sp_server_diagnostics</td></tr></table>"
                    },
                    "metadata": {}
                }
            ],
            "execution_count": 1
        },
        {
            "cell_type": "markdown",
            "source": [
                "#### Consultas de longa execução que consomem CPU ainda estão em execução\n",
                "\n",
                "Use a consulta a seguir para identificar os hashes de consulta:"
            ],
            "metadata": {
                "azdata_cell_guid": "1a46b101-f4c0-403a-9d05-7af31dc173b7"
            }
        },
        {
            "cell_type": "code",
            "source": [
                "PRINT '--top 10 Active CPU Consuming Queries by sessions--';\r\n",
                "SELECT\r\n",
                "    TOP 10\r\n",
                "    req.session_id\r\n",
                "    ,req.start_time\r\n",
                "    ,cpu_time 'cpu_time_ms'\r\n",
                "    ,OBJECT_NAME(ST.objectid, ST.dbid) 'ObjectName'\r\n",
                "    ,SUBSTRING(REPLACE(REPLACE(SUBSTRING(ST.text, (req.statement_start_offset / 2)+1, ((CASE statement_end_offset WHEN -1 THEN DATALENGTH(ST.text)ELSE req.statement_end_offset END-req.statement_start_offset)/ 2)+1), CHAR(10), ' '), CHAR(13), ' '), 1, 512) AS statement_text\r\n",
                "FROM\r\n",
                "    sys.dm_exec_requests AS req\r\n",
                "    CROSS APPLY sys.dm_exec_sql_text(req.sql_handle) AS ST\r\n",
                "ORDER BY cpu_time DESC;\r\n",
                "GO"
            ],
            "metadata": {
                "azdata_cell_guid": "0945df5a-7af5-414c-80b2-56e3bc2185ad",
                "tags": []
            },
            "outputs": [
                {
                    "output_type": "display_data",
                    "data": {
                        "text/html": "--top 10 Active CPU Consuming Queries by sessions--"
                    },
                    "metadata": {}
                },
                {
                    "output_type": "display_data",
                    "data": {
                        "text/html": "(10 rows affected)"
                    },
                    "metadata": {}
                },
                {
                    "output_type": "display_data",
                    "data": {
                        "text/html": "Total execution time: 00:00:11.182"
                    },
                    "metadata": {}
                },
                {
                    "output_type": "execute_result",
                    "execution_count": 3,
                    "data": {
                        "application/vnd.dataresource+json": {
                            "schema": {
                                "fields": [
                                    {
                                        "name": "session_id"
                                    },
                                    {
                                        "name": "start_time"
                                    },
                                    {
                                        "name": "cpu_time_ms"
                                    },
                                    {
                                        "name": "ObjectName"
                                    },
                                    {
                                        "name": "statement_text"
                                    }
                                ]
                            },
                            "data": [
                                {
                                    "0": "52",
                                    "1": "2021-11-05 11:38:47.243",
                                    "2": "1166",
                                    "3": "NULL",
                                    "4": "SELECT * FROM RS_PESSOAS_PERFIS_LOG  \tWHERE CODIGOPESSOA IN (2178032, 2742478, 2707351)  \tORDER BY DATAENVIO DESC"
                                },
                                {
                                    "0": "89",
                                    "1": "2021-11-05 12:34:34.930",
                                    "2": "146",
                                    "3": "NULL",
                                    "4": "SELECT  \tStatus_Matricula  \t, SUM(Qtd_Matriculas) AS Qtd_Matriculas  \t, SUM(Qtd_Matriculas_Ajuste) AS Qtd_Matriculas_Ajuste  \t, SUM(Qtd_Matriculas_Iniciadas) AS Qtd_Matriculas_Iniciadas  \t, SUM(Qtd_Matriculas + Qtd_Matriculas_Ajuste) AS total  into   \t #tmpcalculos  FROM  \tCAD_PRODUCAO_CODEP_ANALITICO x  WHERE  \tAno_Producao = 2021  \tAND Mes_Producao = 10  \tand Codigolote <> 658  \tand not EXISTS(  \t\tSELECT  \t\t\t1  \t\tFROM   \t\t\t\tCAD_PRODUCAO_CODEP_ANALITICO cp  \t\tWHERE   \t\t\t\tcp.Ano_Producao = 2021  \t\t\tAND Mes_"
                                },
                                {
                                    "0": "82",
                                    "1": "2021-11-05 12:39:39.010",
                                    "2": "10",
                                    "3": "NULL",
                                    "4": "SELECT      TOP 10      req.session_id      ,req.start_time      ,cpu_time 'cpu_time_ms'      ,OBJECT_NAME(ST.objectid, ST.dbid) 'ObjectName'      ,SUBSTRING(REPLACE(REPLACE(SUBSTRING(ST.text, (req.statement_start_offset / 2)+1, ((CASE statement_end_offset WHEN -1 THEN DATALENGTH(ST.text)ELSE req.statement_end_offset END-req.statement_start_offset)/ 2)+1), CHAR(10), ' '), CHAR(13), ' '), 1, 512) AS statement_text  FROM      sys.dm_exec_requests AS req      CROSS APPLY sys.dm_exec_sql_text(req.sql_handle) AS"
                                },
                                {
                                    "0": "60",
                                    "1": "2021-11-05 12:38:38.113",
                                    "2": "5",
                                    "3": "NULL",
                                    "4": "SELECT top 200 TURMADATAINICIO, TURMADATATERMINO, UNIDADE, CURSO, ALUNODATAMATRICULA, HISTORICO FROM FCO_NOP_002A where ALUNOCPF = ''"
                                },
                                {
                                    "0": "83",
                                    "1": "2021-11-05 12:39:01.337",
                                    "2": "4",
                                    "3": "NULL",
                                    "4": "SELECT top 200 TURMADATAINICIO, TURMADATATERMINO, UNIDADE, CURSO, ALUNODATAMATRICULA, HISTORICO FROM FCO_NOP_002A where ALUNOCPF = '174.418.667-74'"
                                },
                                {
                                    "0": "84",
                                    "1": "2021-11-05 12:39:02.257",
                                    "2": "4",
                                    "3": "NULL",
                                    "4": "SELECT top 200 TURMADATAINICIO, TURMADATATERMINO, UNIDADE, CURSO, ALUNODATAMATRICULA, HISTORICO FROM FCO_NOP_002A where ALUNOCPF = '530.893.748-62'"
                                },
                                {
                                    "0": "65",
                                    "1": "2021-11-05 12:38:49.190",
                                    "2": "4",
                                    "3": "NULL",
                                    "4": "SELECT top 200 TURMADATAINICIO, TURMADATATERMINO, UNIDADE, CURSO, ALUNODATAMATRICULA, HISTORICO FROM FCO_NOP_002A where ALUNOCPF = ''"
                                },
                                {
                                    "0": "91",
                                    "1": "2021-11-05 12:39:03.340",
                                    "2": "4",
                                    "3": "NULL",
                                    "4": "SELECT top 200 TURMADATAINICIO, TURMADATATERMINO, UNIDADE, CURSO, ALUNODATAMATRICULA, HISTORICO FROM FCO_NOP_002A where ALUNOCPF = '280.816.898-50'"
                                },
                                {
                                    "0": "92",
                                    "1": "2021-11-05 12:39:04.277",
                                    "2": "4",
                                    "3": "NULL",
                                    "4": "SELECT top 200 TURMADATAINICIO, TURMADATATERMINO, UNIDADE, CURSO, ALUNODATAMATRICULA, HISTORICO FROM FCO_NOP_002A where ALUNOCPF = '047.943.750-50'"
                                },
                                {
                                    "0": "93",
                                    "1": "2021-11-05 12:39:07.930",
                                    "2": "4",
                                    "3": "NULL",
                                    "4": "SELECT top 200 TURMADATAINICIO, TURMADATATERMINO, UNIDADE, CURSO, ALUNODATAMATRICULA, HISTORICO FROM FCO_NOP_002A where ALUNOCPF = '089.371.447-00'"
                                }
                            ]
                        },
                        "text/html": "<table><tr><th>session_id</th><th>start_time</th><th>cpu_time_ms</th><th>ObjectName</th><th>statement_text</th></tr><tr><td>52</td><td>2021-11-05 11:38:47.243</td><td>1166</td><td>NULL</td><td>SELECT * FROM RS_PESSOAS_PERFIS_LOG  \tWHERE CODIGOPESSOA IN (2178032, 2742478, 2707351)  \tORDER BY DATAENVIO DESC</td></tr><tr><td>89</td><td>2021-11-05 12:34:34.930</td><td>146</td><td>NULL</td><td>SELECT  \tStatus_Matricula  \t, SUM(Qtd_Matriculas) AS Qtd_Matriculas  \t, SUM(Qtd_Matriculas_Ajuste) AS Qtd_Matriculas_Ajuste  \t, SUM(Qtd_Matriculas_Iniciadas) AS Qtd_Matriculas_Iniciadas  \t, SUM(Qtd_Matriculas + Qtd_Matriculas_Ajuste) AS total  into   \t #tmpcalculos  FROM  \tCAD_PRODUCAO_CODEP_ANALITICO x  WHERE  \tAno_Producao = 2021  \tAND Mes_Producao = 10  \tand Codigolote &lt;&gt; 658  \tand not EXISTS(  \t\tSELECT  \t\t\t1  \t\tFROM   \t\t\t\tCAD_PRODUCAO_CODEP_ANALITICO cp  \t\tWHERE   \t\t\t\tcp.Ano_Producao = 2021  \t\t\tAND Mes_</td></tr><tr><td>82</td><td>2021-11-05 12:39:39.010</td><td>10</td><td>NULL</td><td>SELECT      TOP 10      req.session_id      ,req.start_time      ,cpu_time 'cpu_time_ms'      ,OBJECT_NAME(ST.objectid, ST.dbid) 'ObjectName'      ,SUBSTRING(REPLACE(REPLACE(SUBSTRING(ST.text, (req.statement_start_offset / 2)+1, ((CASE statement_end_offset WHEN -1 THEN DATALENGTH(ST.text)ELSE req.statement_end_offset END-req.statement_start_offset)/ 2)+1), CHAR(10), ' '), CHAR(13), ' '), 1, 512) AS statement_text  FROM      sys.dm_exec_requests AS req      CROSS APPLY sys.dm_exec_sql_text(req.sql_handle) AS</td></tr><tr><td>60</td><td>2021-11-05 12:38:38.113</td><td>5</td><td>NULL</td><td>SELECT top 200 TURMADATAINICIO, TURMADATATERMINO, UNIDADE, CURSO, ALUNODATAMATRICULA, HISTORICO FROM FCO_NOP_002A where ALUNOCPF = ''</td></tr><tr><td>83</td><td>2021-11-05 12:39:01.337</td><td>4</td><td>NULL</td><td>SELECT top 200 TURMADATAINICIO, TURMADATATERMINO, UNIDADE, CURSO, ALUNODATAMATRICULA, HISTORICO FROM FCO_NOP_002A where ALUNOCPF = '174.418.667-74'</td></tr><tr><td>84</td><td>2021-11-05 12:39:02.257</td><td>4</td><td>NULL</td><td>SELECT top 200 TURMADATAINICIO, TURMADATATERMINO, UNIDADE, CURSO, ALUNODATAMATRICULA, HISTORICO FROM FCO_NOP_002A where ALUNOCPF = '530.893.748-62'</td></tr><tr><td>65</td><td>2021-11-05 12:38:49.190</td><td>4</td><td>NULL</td><td>SELECT top 200 TURMADATAINICIO, TURMADATATERMINO, UNIDADE, CURSO, ALUNODATAMATRICULA, HISTORICO FROM FCO_NOP_002A where ALUNOCPF = ''</td></tr><tr><td>91</td><td>2021-11-05 12:39:03.340</td><td>4</td><td>NULL</td><td>SELECT top 200 TURMADATAINICIO, TURMADATATERMINO, UNIDADE, CURSO, ALUNODATAMATRICULA, HISTORICO FROM FCO_NOP_002A where ALUNOCPF = '280.816.898-50'</td></tr><tr><td>92</td><td>2021-11-05 12:39:04.277</td><td>4</td><td>NULL</td><td>SELECT top 200 TURMADATAINICIO, TURMADATATERMINO, UNIDADE, CURSO, ALUNODATAMATRICULA, HISTORICO FROM FCO_NOP_002A where ALUNOCPF = '047.943.750-50'</td></tr><tr><td>93</td><td>2021-11-05 12:39:07.930</td><td>4</td><td>NULL</td><td>SELECT top 200 TURMADATAINICIO, TURMADATATERMINO, UNIDADE, CURSO, ALUNODATAMATRICULA, HISTORICO FROM FCO_NOP_002A where ALUNOCPF = '089.371.447-00'</td></tr></table>"
                    },
                    "metadata": {}
                }
            ],
            "execution_count": 3
        },
        {
            "cell_type": "markdown",
            "source": [
                "### O problema da CPU ocorreu no passado\n",
                "\n",
                "Se o problema ocorreu no passado e você deseja analisar a causa raiz, use o[Repositório de Consultas](https://docs.microsoft.com/pt-br/sql/relational-databases/performance/monitoring-performance-by-using-the-query-store). Os usuários com acesso de banco de dados podem usar o T-SQL para consultar os dados dos Repositório de Consultas. As configurações padrão dos Repositório de Dados de Consultas usam uma granularidade de 1 hora. Use a consulta a seguir para examinar a atividade para consultas de consumo de CPU alta. Essa consulta retorna as consultas de consumo de CPU 15 principais. Lembre-se de alterar `rsi.start_time >= DATEADD(hour, -2, GETUTCDATE()`:"
            ],
            "metadata": {
                "azdata_cell_guid": "4435268d-a1d6-4b71-a8fd-5272a414ac19"
            }
        },
        {
            "cell_type": "code",
            "source": [
                "-- Top 15 CPU consuming queries by query hash\r\n",
                "-- note that a query  hash can have many query id if not parameterized or not parameterized properly\r\n",
                "-- it grabs a sample query text by min\r\n",
                "WITH AggregatedCPU AS (SELECT q.query_hash, SUM(count_executions * avg_cpu_time / 1000.0) AS total_cpu_millisec, SUM(count_executions * avg_cpu_time / 1000.0)/ SUM(count_executions) AS avg_cpu_millisec, MAX(rs.max_cpu_time / 1000.00) AS max_cpu_millisec, MAX(max_logical_io_reads) max_logical_reads, COUNT(DISTINCT p.plan_id) AS number_of_distinct_plans, COUNT(DISTINCT p.query_id) AS number_of_distinct_query_ids, SUM(CASE WHEN rs.execution_type_desc='Aborted' THEN count_executions ELSE 0 END) AS Aborted_Execution_Count, SUM(CASE WHEN rs.execution_type_desc='Regular' THEN count_executions ELSE 0 END) AS Regular_Execution_Count, SUM(CASE WHEN rs.execution_type_desc='Exception' THEN count_executions ELSE 0 END) AS Exception_Execution_Count, SUM(count_executions) AS total_executions, MIN(qt.query_sql_text) AS sampled_query_text\r\n",
                "                       FROM sys.query_store_query_text AS qt\r\n",
                "                            JOIN sys.query_store_query AS q ON qt.query_text_id=q.query_text_id\r\n",
                "                            JOIN sys.query_store_plan AS p ON q.query_id=p.query_id\r\n",
                "                            JOIN sys.query_store_runtime_stats AS rs ON rs.plan_id=p.plan_id\r\n",
                "                            JOIN sys.query_store_runtime_stats_interval AS rsi ON rsi.runtime_stats_interval_id=rs.runtime_stats_interval_id\r\n",
                "                       WHERE rs.execution_type_desc IN ('Regular', 'Aborted', 'Exception')AND rsi.start_time>=DATEADD(HOUR, -2, GETUTCDATE())\r\n",
                "                       GROUP BY q.query_hash), OrderedCPU AS (SELECT query_hash, total_cpu_millisec, avg_cpu_millisec, max_cpu_millisec, max_logical_reads, number_of_distinct_plans, number_of_distinct_query_ids, total_executions, Aborted_Execution_Count, Regular_Execution_Count, Exception_Execution_Count, sampled_query_text, ROW_NUMBER() OVER (ORDER BY total_cpu_millisec DESC, query_hash ASC) AS RN\r\n",
                "                                                              FROM AggregatedCPU)\r\n",
                "SELECT OD.query_hash, OD.total_cpu_millisec, OD.avg_cpu_millisec, OD.max_cpu_millisec, OD.max_logical_reads, OD.number_of_distinct_plans, OD.number_of_distinct_query_ids, OD.total_executions, OD.Aborted_Execution_Count, OD.Regular_Execution_Count, OD.Exception_Execution_Count, OD.sampled_query_text, OD.RN\r\n",
                "FROM OrderedCPU AS OD\r\n",
                "WHERE OD.RN<=15\r\n",
                "ORDER BY total_cpu_millisec DESC;"
            ],
            "metadata": {
                "azdata_cell_guid": "70ed1c52-55de-4d6b-83a2-97db72ff5d7b",
                "tags": []
            },
            "outputs": [
                {
                    "output_type": "error",
                    "ename": "",
                    "evalue": "Msg 208, Level 16, State 1, Line 4\r\nInvalid object name 'sys.query_store_query_text'.",
                    "traceback": []
                },
                {
                    "output_type": "display_data",
                    "data": {
                        "text/html": "Total execution time: 00:00:00.038"
                    },
                    "metadata": {}
                }
            ],
            "execution_count": 1
        },
        {
            "cell_type": "markdown",
            "source": [
                "<span style=\" font-family: &quot;Segoe UI&quot;, SegoeUI, &quot;Helvetica Neue&quot;, Helvetica, Arial, sans-serif; font-size: 16px;\">Depois de identificar as consultas com problemas, é hora de ajustar as consultas para reduzir a utilização da CPU. Se você não tiver tempo para ajustar as consultas, você também pode optar por atualizar o SLO do banco de dados para contornar o problema.</span>"
            ],
            "metadata": {
                "azdata_cell_guid": "187e77db-17df-44cb-b73b-d44ff7d1b071"
            }
        },
        {
            "cell_type": "markdown",
            "source": [
                "## Identificar problemas de desempenho de e/s\n",
                "\n",
                "Ao identificar problemas de desempenho de e/s, os tipos de espera superior associados a problemas de e/s são:\n",
                "\n",
                "- `PAGEIOLATCH_*`\n",
                "    \n",
                "    Para problemas de e/s de arquivo de dados (incluindo `PAGEIOLATCH_SH`, `PAGEIOLATCH_EX`, `PAGEIOLATCH_UP`). Se tiver o nome do tipo de espera e/s nele, ele aponta para um problema de e/s. Se não houver nenhuma e/s o nome de espera de trava de página, ela aponta para um tipo diferente de problema (por exemplo, a contenção de tempdb).\n",
                "    \n",
                "- `WRITE_LOG`\n",
                "    \n",
                "    Para problemas de e/s de log de transações.\n",
                "    \n",
                "\n",
                "### [](https://docs.microsoft.com/pt-br/azure/azure-sql/database/monitoring-with-dmvs#if-the-io-issue-is-occurring-right-now)Se o problema de e/s estiver ocorrendo no momento\n",
                "\n",
                "Use o [. DM exec\\_requests](https://docs.microsoft.com/pt-br/sql/relational-databases/system-dynamic-management-views/sys-dm-exec-requests-transact-sql) ou [DM os\\_waiting\\_tasks](https://docs.microsoft.com/pt-br/sql/relational-databases/system-dynamic-management-views/sys-dm-os-waiting-tasks-transact-sql) para ver os `wait_type` e `wait_time`."
            ],
            "metadata": {
                "azdata_cell_guid": "985dfe76-476a-4881-9c60-32a475f77c05"
            }
        },
        {
            "cell_type": "markdown",
            "source": [
                "#### Identificar os dados e registrar o uso de e/s\n",
                "\n",
                "Use a seguinte consulta para identificar os dados e uso de e/s de log. Se a e/s de dados ou de log estiver acima de 80%, isso significa que os usuários usaram a e/s disponível para a camada de serviço do Banco de Dados SQL."
            ],
            "metadata": {
                "azdata_cell_guid": "5540e903-4728-4f42-a93e-186f7e5ee40c"
            }
        },
        {
            "cell_type": "code",
            "source": [
                "SELECT end_time, avg_data_io_percent, avg_log_write_percent\r\n",
                "FROM sys.dm_db_resource_stats\r\n",
                "ORDER BY end_time DESC;"
            ],
            "metadata": {
                "azdata_cell_guid": "26db21d7-fd75-4da6-aaae-e597708492c4",
                "tags": [
                    "hide_input"
                ]
            },
            "outputs": [],
            "execution_count": null
        },
        {
            "cell_type": "markdown",
            "source": [
                "Se tiver sido atingido o limite de e/s, você tem duas opções:\n",
                "\n",
                "- Opção 1: Atualizar o tamanho da computação ou camada de serviço\n",
                "- Opção 2: Identificar e ajustar as consultas que consomem a maioria das e/s."
            ],
            "metadata": {
                "azdata_cell_guid": "11f355c8-ce0d-4822-bece-649432eb56e2"
            }
        },
        {
            "cell_type": "markdown",
            "source": [
                "#### Visualizar e/s relacionada ao buffer usando o Repositório de Consultas\n",
                "\n",
                "Para a opção 2, você pode usar a consulta a seguir em relação ao Repositório de Dados de Consultas para e/s relacionada ao buffer para exibir as últimas duas horas de atividade controlada:"
            ],
            "metadata": {
                "azdata_cell_guid": "c3680ded-580e-48ce-9fe4-6a5f2bf607b7"
            }
        },
        {
            "cell_type": "code",
            "source": [
                "-- top queries that waited on buffer\r\n",
                "-- note these are finished queries\r\n",
                "WITH Aggregated AS (SELECT q.query_hash, SUM(total_query_wait_time_ms) total_wait_time_ms, SUM(total_query_wait_time_ms / avg_query_wait_time_ms) AS total_executions, MIN(qt.query_sql_text) AS sampled_query_text, MIN(wait_category_desc) AS wait_category_desc\r\n",
                "                    FROM sys.query_store_query_text AS qt\r\n",
                "                         JOIN sys.query_store_query AS q ON qt.query_text_id=q.query_text_id\r\n",
                "                         JOIN sys.query_store_plan AS p ON q.query_id=p.query_id\r\n",
                "                         JOIN sys.query_store_wait_stats AS waits ON waits.plan_id=p.plan_id\r\n",
                "                         JOIN sys.query_store_runtime_stats_interval AS rsi ON rsi.runtime_stats_interval_id=waits.runtime_stats_interval_id\r\n",
                "                    WHERE wait_category_desc='Buffer IO' AND rsi.start_time>=DATEADD(HOUR, -2, GETUTCDATE())\r\n",
                "                    GROUP BY q.query_hash), Ordered AS (SELECT query_hash, total_executions, total_wait_time_ms, sampled_query_text, wait_category_desc, ROW_NUMBER() OVER (ORDER BY total_wait_time_ms DESC, query_hash ASC) AS RN\r\n",
                "                                                        FROM Aggregated)\r\n",
                "SELECT OD.query_hash, OD.total_executions, OD.total_wait_time_ms, OD.sampled_query_text, OD.wait_category_desc, OD.RN\r\n",
                "FROM Ordered AS OD\r\n",
                "WHERE OD.RN<=15\r\n",
                "ORDER BY total_wait_time_ms DESC;\r\n",
                "GO"
            ],
            "metadata": {
                "azdata_cell_guid": "79ebcbf9-ef5a-4044-a988-0834bec1895e",
                "tags": []
            },
            "outputs": [],
            "execution_count": null
        },
        {
            "cell_type": "markdown",
            "source": [
                "#### Exibir o log total e/s para WRITELOG espera\n",
                "\n",
                "Se o tipo de espera for `WRITELOG`, use a seguinte consulta para exibir e/s de log total pela instrução:"
            ],
            "metadata": {
                "azdata_cell_guid": "45ca3f70-e484-4c32-802d-70649a97ab9d"
            }
        },
        {
            "cell_type": "code",
            "source": [
                "-- Top transaction log consumers\r\n",
                "-- Adjust the time window by changing\r\n",
                "-- rsi.start_time >= DATEADD(hour, -2, GETUTCDATE())\r\n",
                "WITH AggregatedLogUsed\r\n",
                "AS (SELECT q.query_hash,\r\n",
                "           SUM(count_executions * avg_cpu_time / 1000.0) AS total_cpu_millisec,\r\n",
                "           SUM(count_executions * avg_cpu_time / 1000.0) / SUM(count_executions) AS avg_cpu_millisec,\r\n",
                "           SUM(count_executions * avg_log_bytes_used) AS total_log_bytes_used,\r\n",
                "           MAX(rs.max_cpu_time / 1000.00) AS max_cpu_millisec,\r\n",
                "           MAX(max_logical_io_reads) max_logical_reads,\r\n",
                "           COUNT(DISTINCT p.plan_id) AS number_of_distinct_plans,\r\n",
                "           COUNT(DISTINCT p.query_id) AS number_of_distinct_query_ids,\r\n",
                "           SUM(   CASE\r\n",
                "                      WHEN rs.execution_type_desc = 'Aborted' THEN\r\n",
                "                          count_executions\r\n",
                "                      ELSE\r\n",
                "                          0\r\n",
                "                  END\r\n",
                "              ) AS Aborted_Execution_Count,\r\n",
                "           SUM(   CASE\r\n",
                "                      WHEN rs.execution_type_desc = 'Regular' THEN\r\n",
                "                          count_executions\r\n",
                "                      ELSE\r\n",
                "                          0\r\n",
                "                  END\r\n",
                "              ) AS Regular_Execution_Count,\r\n",
                "           SUM(   CASE\r\n",
                "                      WHEN rs.execution_type_desc = 'Exception' THEN\r\n",
                "                          count_executions\r\n",
                "                      ELSE\r\n",
                "                          0\r\n",
                "                  END\r\n",
                "              ) AS Exception_Execution_Count,\r\n",
                "           SUM(count_executions) AS total_executions,\r\n",
                "           MIN(qt.query_sql_text) AS sampled_query_text\r\n",
                "    FROM sys.query_store_query_text AS qt\r\n",
                "        JOIN sys.query_store_query AS q\r\n",
                "            ON qt.query_text_id = q.query_text_id\r\n",
                "        JOIN sys.query_store_plan AS p\r\n",
                "            ON q.query_id = p.query_id\r\n",
                "        JOIN sys.query_store_runtime_stats AS rs\r\n",
                "            ON rs.plan_id = p.plan_id\r\n",
                "        JOIN sys.query_store_runtime_stats_interval AS rsi\r\n",
                "            ON rsi.runtime_stats_interval_id = rs.runtime_stats_interval_id\r\n",
                "    WHERE rs.execution_type_desc IN ( 'Regular', 'Aborted', 'Exception' )\r\n",
                "          AND rsi.start_time >= DATEADD(HOUR, -2, GETUTCDATE())\r\n",
                "    GROUP BY q.query_hash),\r\n",
                "     OrderedLogUsed\r\n",
                "AS (SELECT query_hash,\r\n",
                "           total_log_bytes_used,\r\n",
                "           number_of_distinct_plans,\r\n",
                "           number_of_distinct_query_ids,\r\n",
                "           total_executions,\r\n",
                "           Aborted_Execution_Count,\r\n",
                "           Regular_Execution_Count,\r\n",
                "           Exception_Execution_Count,\r\n",
                "           sampled_query_text,\r\n",
                "           ROW_NUMBER() OVER (ORDER BY total_log_bytes_used DESC, query_hash ASC) AS RN\r\n",
                "    FROM AggregatedLogUsed)\r\n",
                "SELECT OD.total_log_bytes_used,\r\n",
                "       OD.number_of_distinct_plans,\r\n",
                "       OD.number_of_distinct_query_ids,\r\n",
                "       OD.total_executions,\r\n",
                "       OD.Aborted_Execution_Count,\r\n",
                "       OD.Regular_Execution_Count,\r\n",
                "       OD.Exception_Execution_Count,\r\n",
                "       OD.sampled_query_text,\r\n",
                "       OD.RN\r\n",
                "FROM OrderedLogUsed AS OD\r\n",
                "WHERE OD.RN <= 15\r\n",
                "ORDER BY total_log_bytes_used DESC;\r\n",
                "GO"
            ],
            "metadata": {
                "azdata_cell_guid": "44f66399-d8eb-4639-8521-0aa79e99bde9",
                "tags": [
                    "hide_input"
                ]
            },
            "outputs": [],
            "execution_count": null
        },
        {
            "cell_type": "markdown",
            "source": [
                "## Identificar `tempdb` problemas de desempenho\n",
                "\n",
                "Ao identificar problemas de desempenho de e/s, os principais tipos de espera de associado `tempdb` é de problemas `PAGELATCH_*` (não `PAGEIOLATCH_*`). No entanto, `PAGELATCH_*` esperas sempre significam que você tem `tempdb` contenção. Essa espera também pode significar que você tenha a contenção de página de dados de objeto de usuário devido a solicitações simultâneas, visando a mesma página de dados. Para confirmar ainda mais a contenção de`tempdb`, use [sys.dm\\_exec\\_requestss](https://docs.microsoft.com/pt-br/sql/relational-databases/system-dynamic-management-views/sys-dm-exec-requests-transact-sql) para confirmar que o valor de wait\\_resource começa com `2:x:y` onde 2 é `tempdb` a ID do banco de dados, `x` é a ID do arquivo e `y` é a ID de página.\n",
                "\n",
                "Para a contenção de tempdb, um método comum é reduzir ou reescrever o código do aplicativo que se baseia em `tempdb`. Áreas de uso comum `tempdb` incluem:\n",
                "\n",
                "- Tabelas temporárias\n",
                "- Variáveis de tabela\n",
                "- Parâmetros com valor de tabela\n",
                "- Uso do repositório de versão ( associado com transações de execução prolongada)\n",
                "- Consultas que têm planos de consulta que usam classificações e junções de hash spools"
            ],
            "metadata": {
                "azdata_cell_guid": "c78cd963-c7c8-45eb-90d6-95c9357b7a76"
            }
        },
        {
            "cell_type": "markdown",
            "source": [
                "### Principais consultas que usam variáveis de tabela e tabelas temporárias\n",
                "\n",
                "Use a consulta a seguir para identificar as principais consultas que usam tabelas temporárias e variáveis de tabela:"
            ],
            "metadata": {
                "azdata_cell_guid": "024f1a2a-6513-44f1-b3b9-bf15fd1a38c5"
            }
        },
        {
            "cell_type": "code",
            "source": [
                "SELECT plan_handle, execution_count, query_plan\r\n",
                "INTO #tmpPlan\r\n",
                "FROM sys.dm_exec_query_stats\r\n",
                "     CROSS APPLY sys.dm_exec_query_plan(plan_handle);\r\n",
                "GO\r\n",
                "\r\n",
                "WITH XMLNAMESPACES('http://schemas.microsoft.com/sqlserver/2004/07/showplan' AS sp)\r\n",
                "SELECT plan_handle, stmt.stmt_details.value('@Database', 'varchar(max)') 'Database', stmt.stmt_details.value('@Schema', 'varchar(max)') 'Schema', stmt.stmt_details.value('@Table', 'varchar(max)') 'table'\r\n",
                "INTO #tmp2\r\n",
                "FROM(SELECT CAST(query_plan AS XML) sqlplan, plan_handle FROM #tmpPlan) AS p\r\n",
                "    CROSS APPLY sqlplan.nodes('//sp:Object') AS stmt(stmt_details);\r\n",
                "GO\r\n",
                "\r\n",
                "SELECT t.plan_handle, [Database], [Schema], [table], execution_count\r\n",
                "FROM(SELECT DISTINCT plan_handle, [Database], [Schema], [table]\r\n",
                "     FROM #tmp2\r\n",
                "     WHERE [table] LIKE '%@%' OR [table] LIKE '%#%') AS t\r\n",
                "    JOIN #tmpPlan AS t2 ON t.plan_handle=t2.plan_handle;"
            ],
            "metadata": {
                "azdata_cell_guid": "fe5dcad8-796d-4542-98c8-bb80746fae5d",
                "tags": [
                    "hide_input"
                ]
            },
            "outputs": [],
            "execution_count": null
        },
        {
            "cell_type": "markdown",
            "source": [
                "### Identificar as transações de longa execução\n",
                "\n",
                "Use a consulta a seguir para identificar transações de execução longas. Transações de longa execução impedem a limpeza do repositório de versão."
            ],
            "metadata": {
                "azdata_cell_guid": "668d830c-edb9-4ba6-a4a2-c6ccf5935702"
            }
        },
        {
            "cell_type": "code",
            "source": [
                "SELECT DB_NAME(dtr.database_id) 'database_name',\r\n",
                "       sess.session_id,\r\n",
                "       atr.name AS 'tran_name',\r\n",
                "       atr.transaction_id,\r\n",
                "       transaction_type,\r\n",
                "       transaction_begin_time,\r\n",
                "       database_transaction_begin_time transaction_state,\r\n",
                "       is_user_transaction,\r\n",
                "       sess.open_transaction_count,\r\n",
                "       LTRIM(RTRIM(REPLACE(\r\n",
                "                              REPLACE(\r\n",
                "                                         SUBSTRING(\r\n",
                "                                                      SUBSTRING(\r\n",
                "                                                                   txt.text,\r\n",
                "                                                                   (req.statement_start_offset / 2) + 1,\r\n",
                "                                                                   ((CASE req.statement_end_offset\r\n",
                "                                                                         WHEN -1 THEN\r\n",
                "                                                                             DATALENGTH(txt.text)\r\n",
                "                                                                         ELSE\r\n",
                "                                                                             req.statement_end_offset\r\n",
                "                                                                     END - req.statement_start_offset\r\n",
                "                                                                    ) / 2\r\n",
                "                                                                   ) + 1\r\n",
                "                                                               ),\r\n",
                "                                                      1,\r\n",
                "                                                      1000\r\n",
                "                                                  ),\r\n",
                "                                         CHAR(10),\r\n",
                "                                         ' '\r\n",
                "                                     ),\r\n",
                "                              CHAR(13),\r\n",
                "                              ' '\r\n",
                "                          )\r\n",
                "                  )\r\n",
                "            ) Running_stmt_text,\r\n",
                "       recenttxt.text 'MostRecentSQLText'\r\n",
                "FROM sys.dm_tran_active_transactions AS atr\r\n",
                "    INNER JOIN sys.dm_tran_database_transactions AS dtr\r\n",
                "        ON dtr.transaction_id = atr.transaction_id\r\n",
                "    LEFT JOIN sys.dm_tran_session_transactions AS sess\r\n",
                "        ON sess.transaction_id = atr.transaction_id\r\n",
                "    LEFT JOIN sys.dm_exec_requests AS req\r\n",
                "        ON req.session_id = sess.session_id\r\n",
                "           AND req.transaction_id = sess.transaction_id\r\n",
                "    LEFT JOIN sys.dm_exec_connections AS conn\r\n",
                "        ON sess.session_id = conn.session_id\r\n",
                "    OUTER APPLY sys.dm_exec_sql_text(req.sql_handle) AS txt\r\n",
                "    OUTER APPLY sys.dm_exec_sql_text(conn.most_recent_sql_handle) AS recenttxt\r\n",
                "WHERE atr.transaction_type != 2\r\n",
                "      AND sess.session_id != @@spid\r\n",
                "ORDER BY start_time ASC;"
            ],
            "metadata": {
                "azdata_cell_guid": "a790acaa-8a25-4fe8-b7f5-1caca80d1592",
                "tags": [
                    "hide_input"
                ]
            },
            "outputs": [],
            "execution_count": null
        },
        {
            "cell_type": "markdown",
            "source": [
                "## Identificar problemas de desempenho de espera de concessão de memória\n",
                "\n",
                "Se o seu tipo de espera superior for `RESOURCE_SEMAHPORE` e você não tiver um problema de uso de CPU alto, você pode ter um problema de concessão de memória em espera.\n",
                "\n",
                "### [](https://docs.microsoft.com/pt-br/azure/azure-sql/database/monitoring-with-dmvs#determine-if-a-resource_semahpore-wait-is-a-top-wait)Determinar se um `RESOURCE_SEMAHPORE` espera for uma espera superior\n",
                "\n",
                "Use a seguinte consulta para determinar se uma `RESOURCE_SEMAHPORE` espera é uma espera superior"
            ],
            "metadata": {
                "azdata_cell_guid": "4ae03cfd-87da-461b-af02-5a2f0bb9ab8f"
            }
        },
        {
            "cell_type": "markdown",
            "source": [
                "SELECT wait\\_type,\n",
                "\n",
                "       SUM(wait\\_time) AS total\\_wait\\_time\\_ms\n",
                "\n",
                "FROM sys.dm\\_exec\\_requests AS req\n",
                "\n",
                "    JOIN sys.dm\\_exec\\_sessions AS sess\n",
                "\n",
                "        ON req.session\\_id = sess.session\\_id\n",
                "\n",
                "WHERE is\\_user\\_process = 1\n",
                "\n",
                "GROUP BY wait\\_type\n",
                "\n",
                "ORDER BY SUM(wait\\_time) DESC;"
            ],
            "metadata": {
                "azdata_cell_guid": "eebce21d-00c6-4155-8eb0-f0cd1b603518"
            }
        },
        {
            "cell_type": "markdown",
            "source": [
                "### Identificar instruções altas que consomem memória\n",
                "\n",
                "Use a consulta a seguir para identificar instruções altas consumo de memória:"
            ],
            "metadata": {
                "azdata_cell_guid": "e4853cd2-1742-41d2-8070-b557693884cb"
            }
        },
        {
            "cell_type": "code",
            "source": [
                "SELECT wait_type,\r\n",
                "       SUM(wait_time) AS total_wait_time_ms\r\n",
                "FROM sys.dm_exec_requests AS req\r\n",
                "    JOIN sys.dm_exec_sessions AS sess\r\n",
                "        ON req.session_id = sess.session_id\r\n",
                "WHERE is_user_process = 1\r\n",
                "GROUP BY wait_type\r\n",
                "ORDER BY SUM(wait_time) DESC;"
            ],
            "metadata": {
                "azdata_cell_guid": "a4fac760-00d5-4ef5-8d4d-e63453d4d4c2"
            },
            "outputs": [],
            "execution_count": null
        },
        {
            "cell_type": "markdown",
            "source": [
                "### Identificar instruções altas que consomem memória\n",
                "\n",
                "Use a consulta a seguir para identificar instruções altas consumo de memória:"
            ],
            "metadata": {
                "azdata_cell_guid": "80c223ca-8119-4eea-b989-1497cc0f94f5"
            }
        },
        {
            "cell_type": "code",
            "source": [
                "SELECT IDENTITY(INT, 1, 1) rowId,\r\n",
                "    CAST(query_plan AS XML) query_plan,\r\n",
                "    p.query_id\r\n",
                "INTO #tmp\r\n",
                "FROM sys.query_store_plan AS p\r\n",
                "    JOIN sys.query_store_runtime_stats AS r\r\n",
                "        ON p.plan_id = r.plan_id\r\n",
                "    JOIN sys.query_store_runtime_stats_interval AS i\r\n",
                "        ON r.runtime_stats_interval_id = i.runtime_stats_interval_id\r\n",
                "WHERE start_time > '2018-10-11 14:00:00.0000000'\r\n",
                "      AND end_time < '2018-10-17 20:00:00.0000000';\r\n",
                "GO\r\n",
                ";WITH cte\r\n",
                "AS (SELECT query_id,\r\n",
                "        query_plan,\r\n",
                "        m.c.value('@SerialDesiredMemory', 'INT') AS SerialDesiredMemory\r\n",
                "    FROM #tmp AS t\r\n",
                "        CROSS APPLY t.query_plan.nodes('//*:MemoryGrantInfo[@SerialDesiredMemory[. > 0]]') AS m(c) )\r\n",
                "SELECT TOP 50\r\n",
                "    cte.query_id,\r\n",
                "    t.query_sql_text,\r\n",
                "    cte.query_plan,\r\n",
                "    CAST(SerialDesiredMemory / 1024. AS DECIMAL(10, 2)) SerialDesiredMemory_MB\r\n",
                "FROM cte\r\n",
                "    JOIN sys.query_store_query AS q\r\n",
                "        ON cte.query_id = q.query_id\r\n",
                "    JOIN sys.query_store_query_text AS t\r\n",
                "        ON q.query_text_id = t.query_text_id\r\n",
                "ORDER BY SerialDesiredMemory DESC;"
            ],
            "metadata": {
                "azdata_cell_guid": "80e750b9-bfec-41b6-b097-db8fa3ec320a"
            },
            "outputs": [],
            "execution_count": null
        },
        {
            "cell_type": "markdown",
            "source": [
                "### Identificar as 10 principais concessão de memória\n",
                "\n",
                "Use a consulta a seguir para identificar 10 principais concessão de memória:"
            ],
            "metadata": {
                "azdata_cell_guid": "4414c126-7c6d-49fd-9eba-5a1c630d1f67"
            }
        },
        {
            "cell_type": "code",
            "source": [
                "SELECT TOP 10\r\n",
                "    CONVERT(VARCHAR(30), GETDATE(), 121) AS runtime,\r\n",
                "       r.session_id,\r\n",
                "       r.blocking_session_id,\r\n",
                "       r.cpu_time,\r\n",
                "       r.total_elapsed_time,\r\n",
                "       r.reads,\r\n",
                "       r.writes,\r\n",
                "       r.logical_reads,\r\n",
                "       r.row_count,\r\n",
                "       wait_time,\r\n",
                "       wait_type,\r\n",
                "       r.command,\r\n",
                "       OBJECT_NAME(txt.objectid, txt.dbid) 'Object_Name',\r\n",
                "       LTRIM(RTRIM(REPLACE(\r\n",
                "                              REPLACE(\r\n",
                "                                         SUBSTRING(\r\n",
                "                                                      SUBSTRING(\r\n",
                "                                                                   text,\r\n",
                "                                                                   (r.statement_start_offset / 2) + 1,\r\n",
                "                                                                   ((CASE r.statement_end_offset\r\n",
                "                                                                         WHEN -1 THEN\r\n",
                "                                                                             DATALENGTH(text)\r\n",
                "                                                                         ELSE\r\n",
                "                                                                             r.statement_end_offset\r\n",
                "                                                                     END - r.statement_start_offset\r\n",
                "                                                                    ) / 2\r\n",
                "                                                                   ) + 1\r\n",
                "                                                               ),\r\n",
                "                                                      1,\r\n",
                "                                                      1000\r\n",
                "                                                  ),\r\n",
                "                                         CHAR(10),\r\n",
                "                                         ' '\r\n",
                "                                     ),\r\n",
                "                              CHAR(13),\r\n",
                "                              ' '\r\n",
                "                          )\r\n",
                "                  )\r\n",
                "            ) stmt_text,\r\n",
                "       mg.dop,                                               --Degree of parallelism\r\n",
                "       mg.request_time,                                      --Date and time when this query requested the memory grant.\r\n",
                "       mg.grant_time,                                        --NULL means memory has not been granted\r\n",
                "       mg.requested_memory_kb / 1024.0 requested_memory_mb,  --Total requested amount of memory in megabytes\r\n",
                "       mg.granted_memory_kb / 1024.0 AS granted_memory_mb,   --Total amount of memory actually granted in megabytes. NULL if not granted\r\n",
                "       mg.required_memory_kb / 1024.0 AS required_memory_mb, --Minimum memory required to run this query in megabytes.\r\n",
                "       max_used_memory_kb / 1024.0 AS max_used_memory_mb,\r\n",
                "       mg.query_cost,                                        --Estimated query cost.\r\n",
                "       mg.timeout_sec,                                       --Time-out in seconds before this query gives up the memory grant request.\r\n",
                "       mg.resource_semaphore_id,                             --Non-unique ID of the resource semaphore on which this query is waiting.\r\n",
                "       mg.wait_time_ms,                                      --Wait time in milliseconds. NULL if the memory is already granted.\r\n",
                "       CASE mg.is_next_candidate --Is this process the next candidate for a memory grant\r\n",
                "           WHEN 1 THEN\r\n",
                "               'Yes'\r\n",
                "           WHEN 0 THEN\r\n",
                "               'No'\r\n",
                "           ELSE\r\n",
                "               'Memory has been granted'\r\n",
                "       END AS 'Next Candidate for Memory Grant',\r\n",
                "       qp.query_plan\r\n",
                "FROM sys.dm_exec_requests AS r\r\n",
                "    JOIN sys.dm_exec_query_memory_grants AS mg\r\n",
                "        ON r.session_id = mg.session_id\r\n",
                "           AND r.request_id = mg.request_id\r\n",
                "    CROSS APPLY sys.dm_exec_sql_text(mg.sql_handle) AS txt\r\n",
                "    CROSS APPLY sys.dm_exec_query_plan(r.plan_handle) AS qp\r\n",
                "ORDER BY mg.granted_memory_kb DESC;"
            ],
            "metadata": {
                "azdata_cell_guid": "3f5c1ab2-3273-4151-969f-c2c7791a5947"
            },
            "outputs": [],
            "execution_count": null
        },
        {
            "cell_type": "markdown",
            "source": [
                "## Calcular os tamanhos de banco de dados e objetos\n",
                "\n",
                "A seguinte consulta retorna o tamanho do seu banco de dados (em megabytes):"
            ],
            "metadata": {
                "azdata_cell_guid": "10bcc325-2176-4c53-9ad1-d9790c6c3875"
            }
        },
        {
            "cell_type": "code",
            "source": [
                "-- Calculates the size of the database.\r\n",
                "SELECT SUM(CAST(FILEPROPERTY(name, 'SpaceUsed') AS bigint) * 8192.) / 1024 / 1024 AS DatabaseSizeInMB\r\n",
                "FROM sys.database_files\r\n",
                "WHERE type_desc = 'ROWS';\r\n",
                "GO"
            ],
            "metadata": {
                "azdata_cell_guid": "e189acd4-d83d-4591-ba1c-e9261e99c287"
            },
            "outputs": [
                {
                    "output_type": "display_data",
                    "data": {
                        "text/html": "(1 row affected)"
                    },
                    "metadata": {}
                },
                {
                    "output_type": "display_data",
                    "data": {
                        "text/html": "Total execution time: 00:00:00.059"
                    },
                    "metadata": {}
                },
                {
                    "output_type": "execute_result",
                    "execution_count": 4,
                    "data": {
                        "application/vnd.dataresource+json": {
                            "schema": {
                                "fields": [
                                    {
                                        "name": "DatabaseSizeInMB"
                                    }
                                ]
                            },
                            "data": [
                                {
                                    "0": "15881,000000"
                                }
                            ]
                        },
                        "text/html": "<table><tr><th>DatabaseSizeInMB</th></tr><tr><td>15881,000000</td></tr></table>"
                    },
                    "metadata": {}
                }
            ],
            "execution_count": 4
        },
        {
            "cell_type": "code",
            "source": [
                "A consulta a seguir retorna o tamanho do dos objetos individuais (em megabytes) no seu banco de dados:"
            ],
            "metadata": {
                "azdata_cell_guid": "f8e934d6-ad9e-4059-8c90-437ce51db31e"
            },
            "outputs": [],
            "execution_count": null
        },
        {
            "cell_type": "code",
            "source": [
                "-- Calculates the size of individual database objects.\r\n",
                "SELECT sys.objects.name, SUM(reserved_page_count) * 8.0 / 1024\r\n",
                "FROM sys.dm_db_partition_stats, sys.objects\r\n",
                "WHERE sys.dm_db_partition_stats.object_id = sys.objects.object_id\r\n",
                "GROUP BY sys.objects.name;\r\n",
                "GO"
            ],
            "metadata": {
                "azdata_cell_guid": "c10ff6ba-b79b-4cc9-8fdc-14b2201a6db4"
            },
            "outputs": [
                {
                    "output_type": "display_data",
                    "data": {
                        "text/html": "(162 rows affected)"
                    },
                    "metadata": {}
                },
                {
                    "output_type": "display_data",
                    "data": {
                        "text/html": "Total execution time: 00:00:00.106"
                    },
                    "metadata": {}
                },
                {
                    "output_type": "execute_result",
                    "execution_count": 3,
                    "data": {
                        "application/vnd.dataresource+json": {
                            "schema": {
                                "fields": [
                                    {
                                        "name": "name"
                                    },
                                    {
                                        "name": "(No column name)"
                                    }
                                ]
                            },
                            "data": [
                                {
                                    "0": "Ajuda",
                                    "1": "0,203125"
                                },
                                {
                                    "0": "Area",
                                    "1": "0,015625"
                                },
                                {
                                    "0": "AreaInteresse",
                                    "1": "22,945312"
                                },
                                {
                                    "0": "AssociacaoCurso",
                                    "1": "0,015625"
                                },
                                {
                                    "0": "Auditoria",
                                    "1": "8,976562"
                                },
                                {
                                    "0": "Bairro",
                                    "1": "5,414062"
                                },
                                {
                                    "0": "Campanha",
                                    "1": "0,000000"
                                },
                                {
                                    "0": "CampoRelatorio",
                                    "1": "3,593750"
                                },
                                {
                                    "0": "CategoriaOportunidade",
                                    "1": "0,015625"
                                },
                                {
                                    "0": "Cidade",
                                    "1": "1,093750"
                                },
                                {
                                    "0": "ContaSMS",
                                    "1": "0,015625"
                                },
                                {
                                    "0": "Contato",
                                    "1": "55,601562"
                                },
                                {
                                    "0": "ControleImportacao",
                                    "1": "13,820312"
                                },
                                {
                                    "0": "Curso",
                                    "1": "7,250000"
                                },
                                {
                                    "0": "Deficiencia",
                                    "1": "0,781250"
                                },
                                {
                                    "0": "DestinatarioEnvio",
                                    "1": "0,070312"
                                },
                                {
                                    "0": "Email",
                                    "1": "159,640625"
                                },
                                {
                                    "0": "Empresa",
                                    "1": "5,898437"
                                },
                                {
                                    "0": "Endereco",
                                    "1": "129,304687"
                                },
                                {
                                    "0": "EnvioEmailMarketing",
                                    "1": "0,031250"
                                },
                                {
                                    "0": "EnvioSMS",
                                    "1": "0,000000"
                                },
                                {
                                    "0": "Erro",
                                    "1": "3927,179687"
                                },
                                {
                                    "0": "EsforcoVenda",
                                    "1": "33,125000"
                                },
                                {
                                    "0": "EsforcoVendaUsuario",
                                    "1": "34,867187"
                                },
                                {
                                    "0": "Estado",
                                    "1": "0,015625"
                                },
                                {
                                    "0": "EtapaInteracao",
                                    "1": "0,015625"
                                },
                                {
                                    "0": "filestream_tombstone_2073058421",
                                    "1": "0,000000"
                                },
                                {
                                    "0": "filetable_updates_1070626857",
                                    "1": "0,000000"
                                },
                                {
                                    "0": "FiltroCampanha",
                                    "1": "0,000000"
                                },
                                {
                                    "0": "FiltroRelatorio",
                                    "1": "0,718750"
                                },
                                {
                                    "0": "GestaoVenda",
                                    "1": "2,148437"
                                },
                                {
                                    "0": "HistoricoCargaHorariaCurso",
                                    "1": "2,312500"
                                },
                                {
                                    "0": "HistoricoNotificacaoCliente",
                                    "1": "0,070312"
                                },
                                {
                                    "0": "HistoricoPerfil",
                                    "1": "3,320312"
                                },
                                {
                                    "0": "Indicacao",
                                    "1": "0,015625"
                                },
                                {
                                    "0": "Interacao",
                                    "1": "8643,195312"
                                },
                                {
                                    "0": "LOG_OPORTUNIDADE_CURSO",
                                    "1": "618,101562"
                                },
                                {
                                    "0": "LOG_OPORTUNIDADE_CURSOS",
                                    "1": "16,390625"
                                },
                                {
                                    "0": "log_unifica_pessoa",
                                    "1": "0,640625"
                                },
                                {
                                    "0": "log_unifica_pessoa_oportunidades",
                                    "1": "1,875000"
                                },
                                {
                                    "0": "LogAuditoria",
                                    "1": "10,031250"
                                },
                                {
                                    "0": "MeuSenac",
                                    "1": "20,906250"
                                },
                                {
                                    "0": "MotivoCancelamento",
                                    "1": "0,031250"
                                },
                                {
                                    "0": "MotivoCancelamentoOportunidade",
                                    "1": "35,851562"
                                },
                                {
                                    "0": "Nivel",
                                    "1": "0,015625"
                                },
                                {
                                    "0": "NivelInteresse",
                                    "1": "21,820312"
                                },
                                {
                                    "0": "Oportunidade",
                                    "1": "1127,234375"
                                },
                                {
                                    "0": "OrigemCadastro",
                                    "1": "0,031250"
                                },
                                {
                                    "0": "Papel",
                                    "1": "0,015625"
                                },
                                {
                                    "0": "Perfil",
                                    "1": "0,015625"
                                },
                                {
                                    "0": "Pessoa",
                                    "1": "561,976562"
                                },
                                {
                                    "0": "plan_persist_context_settings",
                                    "1": "0,000000"
                                },
                                {
                                    "0": "plan_persist_plan",
                                    "1": "0,000000"
                                },
                                {
                                    "0": "plan_persist_query",
                                    "1": "0,000000"
                                },
                                {
                                    "0": "plan_persist_query_hints",
                                    "1": "0,000000"
                                },
                                {
                                    "0": "plan_persist_query_template_parameterization",
                                    "1": "0,000000"
                                },
                                {
                                    "0": "plan_persist_query_text",
                                    "1": "0,000000"
                                },
                                {
                                    "0": "plan_persist_runtime_stats",
                                    "1": "0,000000"
                                },
                                {
                                    "0": "plan_persist_runtime_stats_interval",
                                    "1": "0,000000"
                                },
                                {
                                    "0": "plan_persist_wait_stats",
                                    "1": "0,000000"
                                },
                                {
                                    "0": "Profissao",
                                    "1": "0,257812"
                                },
                                {
                                    "0": "queue_messages_1977058079",
                                    "1": "0,000000"
                                },
                                {
                                    "0": "queue_messages_2009058193",
                                    "1": "0,000000"
                                },
                                {
                                    "0": "queue_messages_2041058307",
                                    "1": "0,000000"
                                },
                                {
                                    "0": "Relatorio",
                                    "1": "1,031250"
                                },
                                {
                                    "0": "ResultadoInteracao",
                                    "1": "0,031250"
                                },
                                {
                                    "0": "ResultadoInteracaoInteracao",
                                    "1": "75,367187"
                                },
                                {
                                    "0": "SI",
                                    "1": "6,320312"
                                },
                                {
                                    "0": "sqlagent_job_history",
                                    "1": "0,000000"
                                },
                                {
                                    "0": "sqlagent_jobs",
                                    "1": "0,000000"
                                },
                                {
                                    "0": "sqlagent_jobsteps",
                                    "1": "0,000000"
                                },
                                {
                                    "0": "sqlagent_jobsteps_logs",
                                    "1": "0,000000"
                                },
                                {
                                    "0": "StatusCertificado",
                                    "1": "0,015625"
                                },
                                {
                                    "0": "StatusOportunidade",
                                    "1": "0,015625"
                                },
                                {
                                    "0": "sysallocunits",
                                    "1": "0,085937"
                                },
                                {
                                    "0": "sysasymkeys",
                                    "1": "0,000000"
                                },
                                {
                                    "0": "sysaudacts",
                                    "1": "0,000000"
                                },
                                {
                                    "0": "sysbinobjs",
                                    "1": "0,031250"
                                },
                                {
                                    "0": "sysbinsubobjs",
                                    "1": "0,031250"
                                },
                                {
                                    "0": "sysbrickfiles",
                                    "1": "0,000000"
                                },
                                {
                                    "0": "syscerts",
                                    "1": "0,000000"
                                },
                                {
                                    "0": "syschildinsts",
                                    "1": "0,000000"
                                },
                                {
                                    "0": "sysclones",
                                    "1": "0,000000"
                                },
                                {
                                    "0": "sysclsobjs",
                                    "1": "0,031250"
                                },
                                {
                                    "0": "syscolpars",
                                    "1": "0,601562"
                                },
                                {
                                    "0": "syscommittab",
                                    "1": "0,000000"
                                },
                                {
                                    "0": "syscompfragments",
                                    "1": "0,000000"
                                },
                                {
                                    "0": "sysconvgroup",
                                    "1": "0,000000"
                                },
                                {
                                    "0": "syscscolsegments",
                                    "1": "0,000000"
                                },
                                {
                                    "0": "syscsdictionaries",
                                    "1": "0,000000"
                                },
                                {
                                    "0": "syscsrowgroups",
                                    "1": "0,000000"
                                },
                                {
                                    "0": "sysdbfiles",
                                    "1": "0,015625"
                                },
                                {
                                    "0": "sysdbfrag",
                                    "1": "0,000000"
                                },
                                {
                                    "0": "sysdbreg",
                                    "1": "0,000000"
                                },
                                {
                                    "0": "sysdercv",
                                    "1": "0,000000"
                                },
                                {
                                    "0": "sysdesend",
                                    "1": "0,000000"
                                },
                                {
                                    "0": "sysendpts",
                                    "1": "0,000000"
                                },
                                {
                                    "0": "sysextfileformats",
                                    "1": "0,000000"
                                },
                                {
                                    "0": "sysextsources",
                                    "1": "0,000000"
                                },
                                {
                                    "0": "sysexttables",
                                    "1": "0,000000"
                                },
                                {
                                    "0": "sysfgfrag",
                                    "1": "0,015625"
                                },
                                {
                                    "0": "sysfiles1",
                                    "1": "0,015625"
                                },
                                {
                                    "0": "sysfoqueues",
                                    "1": "0,000000"
                                },
                                {
                                    "0": "sysfos",
                                    "1": "0,000000"
                                },
                                {
                                    "0": "sysftinds",
                                    "1": "0,000000"
                                },
                                {
                                    "0": "sysftproperties",
                                    "1": "0,000000"
                                },
                                {
                                    "0": "sysftsemanticsdb",
                                    "1": "0,000000"
                                },
                                {
                                    "0": "sysftstops",
                                    "1": "0,000000"
                                },
                                {
                                    "0": "sysguidrefs",
                                    "1": "0,000000"
                                },
                                {
                                    "0": "sysidxstats",
                                    "1": "0,351562"
                                },
                                {
                                    "0": "sysiscols",
                                    "1": "0,093750"
                                },
                                {
                                    "0": "syslnklgns",
                                    "1": "0,000000"
                                },
                                {
                                    "0": "sysmultiobjrefs",
                                    "1": "0,070312"
                                },
                                {
                                    "0": "sysmultiobjvalues",
                                    "1": "0,000000"
                                },
                                {
                                    "0": "sysnsobjs",
                                    "1": "0,031250"
                                },
                                {
                                    "0": "sysobjkeycrypts",
                                    "1": "0,000000"
                                },
                                {
                                    "0": "sysobjvalues",
                                    "1": "4,679687"
                                },
                                {
                                    "0": "sysowners",
                                    "1": "0,046875"
                                },
                                {
                                    "0": "sysphfg",
                                    "1": "0,015625"
                                },
                                {
                                    "0": "syspriorities",
                                    "1": "0,000000"
                                },
                                {
                                    "0": "sysprivs",
                                    "1": "0,015625"
                                },
                                {
                                    "0": "syspru",
                                    "1": "0,000000"
                                },
                                {
                                    "0": "sysprufiles",
                                    "1": "0,015625"
                                },
                                {
                                    "0": "sysqnames",
                                    "1": "0,031250"
                                },
                                {
                                    "0": "sysremsvcbinds",
                                    "1": "0,000000"
                                },
                                {
                                    "0": "sysrmtlgns",
                                    "1": "0,000000"
                                },
                                {
                                    "0": "sysrowsetrefs",
                                    "1": "0,000000"
                                },
                                {
                                    "0": "sysrowsets",
                                    "1": "0,046875"
                                },
                                {
                                    "0": "sysrscols",
                                    "1": "0,257812"
                                },
                                {
                                    "0": "sysrts",
                                    "1": "0,046875"
                                },
                                {
                                    "0": "sysscalartypes",
                                    "1": "0,046875"
                                },
                                {
                                    "0": "sysschobjs",
                                    "1": "1,039062"
                                },
                                {
                                    "0": "sysseobjvalues",
                                    "1": "0,000000"
                                },
                                {
                                    "0": "syssingleobjrefs",
                                    "1": "0,078125"
                                },
                                {
                                    "0": "syssoftobjrefs",
                                    "1": "0,062500"
                                },
                                {
                                    "0": "syssqlguides",
                                    "1": "0,000000"
                                },
                                {
                                    "0": "systypedsubobjs",
                                    "1": "0,000000"
                                },
                                {
                                    "0": "sysusermsgs",
                                    "1": "0,000000"
                                },
                                {
                                    "0": "syswebmethods",
                                    "1": "0,000000"
                                },
                                {
                                    "0": "sysxlgns",
                                    "1": "0,000000"
                                },
                                {
                                    "0": "sysxmitbody",
                                    "1": "0,000000"
                                },
                                {
                                    "0": "sysxmitqueue",
                                    "1": "0,000000"
                                },
                                {
                                    "0": "sysxmlcomponent",
                                    "1": "0,031250"
                                },
                                {
                                    "0": "sysxmlfacet",
                                    "1": "0,015625"
                                },
                                {
                                    "0": "sysxmlplacement",
                                    "1": "0,031250"
                                },
                                {
                                    "0": "sysxprops",
                                    "1": "0,000000"
                                },
                                {
                                    "0": "sysxsrvs",
                                    "1": "0,000000"
                                },
                                {
                                    "0": "Telefone",
                                    "1": "240,203125"
                                },
                                {
                                    "0": "TelefoneBloqueadoProcon",
                                    "1": "29,906250"
                                },
                                {
                                    "0": "TemplateEmail",
                                    "1": "0,039062"
                                },
                                {
                                    "0": "TemplateSMS",
                                    "1": "0,015625"
                                },
                                {
                                    "0": "TipoDeficiencia",
                                    "1": "0,015625"
                                },
                                {
                                    "0": "Turma",
                                    "1": "9,937500"
                                },
                                {
                                    "0": "Unidade",
                                    "1": "0,085937"
                                },
                                {
                                    "0": "UnidadeVinculada",
                                    "1": "0,015625"
                                },
                                {
                                    "0": "UsersLogonHistory",
                                    "1": "22,976562"
                                },
                                {
                                    "0": "UsersLogonHistoryOLD",
                                    "1": "2,078125"
                                },
                                {
                                    "0": "Usuario",
                                    "1": "2,367187"
                                },
                                {
                                    "0": "ValorFiltroCampanha",
                                    "1": "0,000000"
                                },
                                {
                                    "0": "ValorFiltroRelatorio",
                                    "1": "5,476562"
                                },
                                {
                                    "0": "Vestibular",
                                    "1": "0,046875"
                                },
                                {
                                    "0": "wpr_bucket_table",
                                    "1": "0,000000"
                                }
                            ]
                        },
                        "text/html": "<table><tr><th>name</th><th>(No column name)</th></tr><tr><td>Ajuda</td><td>0,203125</td></tr><tr><td>Area</td><td>0,015625</td></tr><tr><td>AreaInteresse</td><td>22,945312</td></tr><tr><td>AssociacaoCurso</td><td>0,015625</td></tr><tr><td>Auditoria</td><td>8,976562</td></tr><tr><td>Bairro</td><td>5,414062</td></tr><tr><td>Campanha</td><td>0,000000</td></tr><tr><td>CampoRelatorio</td><td>3,593750</td></tr><tr><td>CategoriaOportunidade</td><td>0,015625</td></tr><tr><td>Cidade</td><td>1,093750</td></tr><tr><td>ContaSMS</td><td>0,015625</td></tr><tr><td>Contato</td><td>55,601562</td></tr><tr><td>ControleImportacao</td><td>13,820312</td></tr><tr><td>Curso</td><td>7,250000</td></tr><tr><td>Deficiencia</td><td>0,781250</td></tr><tr><td>DestinatarioEnvio</td><td>0,070312</td></tr><tr><td>Email</td><td>159,640625</td></tr><tr><td>Empresa</td><td>5,898437</td></tr><tr><td>Endereco</td><td>129,304687</td></tr><tr><td>EnvioEmailMarketing</td><td>0,031250</td></tr><tr><td>EnvioSMS</td><td>0,000000</td></tr><tr><td>Erro</td><td>3927,179687</td></tr><tr><td>EsforcoVenda</td><td>33,125000</td></tr><tr><td>EsforcoVendaUsuario</td><td>34,867187</td></tr><tr><td>Estado</td><td>0,015625</td></tr><tr><td>EtapaInteracao</td><td>0,015625</td></tr><tr><td>filestream_tombstone_2073058421</td><td>0,000000</td></tr><tr><td>filetable_updates_1070626857</td><td>0,000000</td></tr><tr><td>FiltroCampanha</td><td>0,000000</td></tr><tr><td>FiltroRelatorio</td><td>0,718750</td></tr><tr><td>GestaoVenda</td><td>2,148437</td></tr><tr><td>HistoricoCargaHorariaCurso</td><td>2,312500</td></tr><tr><td>HistoricoNotificacaoCliente</td><td>0,070312</td></tr><tr><td>HistoricoPerfil</td><td>3,320312</td></tr><tr><td>Indicacao</td><td>0,015625</td></tr><tr><td>Interacao</td><td>8643,195312</td></tr><tr><td>LOG_OPORTUNIDADE_CURSO</td><td>618,101562</td></tr><tr><td>LOG_OPORTUNIDADE_CURSOS</td><td>16,390625</td></tr><tr><td>log_unifica_pessoa</td><td>0,640625</td></tr><tr><td>log_unifica_pessoa_oportunidades</td><td>1,875000</td></tr><tr><td>LogAuditoria</td><td>10,031250</td></tr><tr><td>MeuSenac</td><td>20,906250</td></tr><tr><td>MotivoCancelamento</td><td>0,031250</td></tr><tr><td>MotivoCancelamentoOportunidade</td><td>35,851562</td></tr><tr><td>Nivel</td><td>0,015625</td></tr><tr><td>NivelInteresse</td><td>21,820312</td></tr><tr><td>Oportunidade</td><td>1127,234375</td></tr><tr><td>OrigemCadastro</td><td>0,031250</td></tr><tr><td>Papel</td><td>0,015625</td></tr><tr><td>Perfil</td><td>0,015625</td></tr><tr><td>Pessoa</td><td>561,976562</td></tr><tr><td>plan_persist_context_settings</td><td>0,000000</td></tr><tr><td>plan_persist_plan</td><td>0,000000</td></tr><tr><td>plan_persist_query</td><td>0,000000</td></tr><tr><td>plan_persist_query_hints</td><td>0,000000</td></tr><tr><td>plan_persist_query_template_parameterization</td><td>0,000000</td></tr><tr><td>plan_persist_query_text</td><td>0,000000</td></tr><tr><td>plan_persist_runtime_stats</td><td>0,000000</td></tr><tr><td>plan_persist_runtime_stats_interval</td><td>0,000000</td></tr><tr><td>plan_persist_wait_stats</td><td>0,000000</td></tr><tr><td>Profissao</td><td>0,257812</td></tr><tr><td>queue_messages_1977058079</td><td>0,000000</td></tr><tr><td>queue_messages_2009058193</td><td>0,000000</td></tr><tr><td>queue_messages_2041058307</td><td>0,000000</td></tr><tr><td>Relatorio</td><td>1,031250</td></tr><tr><td>ResultadoInteracao</td><td>0,031250</td></tr><tr><td>ResultadoInteracaoInteracao</td><td>75,367187</td></tr><tr><td>SI</td><td>6,320312</td></tr><tr><td>sqlagent_job_history</td><td>0,000000</td></tr><tr><td>sqlagent_jobs</td><td>0,000000</td></tr><tr><td>sqlagent_jobsteps</td><td>0,000000</td></tr><tr><td>sqlagent_jobsteps_logs</td><td>0,000000</td></tr><tr><td>StatusCertificado</td><td>0,015625</td></tr><tr><td>StatusOportunidade</td><td>0,015625</td></tr><tr><td>sysallocunits</td><td>0,085937</td></tr><tr><td>sysasymkeys</td><td>0,000000</td></tr><tr><td>sysaudacts</td><td>0,000000</td></tr><tr><td>sysbinobjs</td><td>0,031250</td></tr><tr><td>sysbinsubobjs</td><td>0,031250</td></tr><tr><td>sysbrickfiles</td><td>0,000000</td></tr><tr><td>syscerts</td><td>0,000000</td></tr><tr><td>syschildinsts</td><td>0,000000</td></tr><tr><td>sysclones</td><td>0,000000</td></tr><tr><td>sysclsobjs</td><td>0,031250</td></tr><tr><td>syscolpars</td><td>0,601562</td></tr><tr><td>syscommittab</td><td>0,000000</td></tr><tr><td>syscompfragments</td><td>0,000000</td></tr><tr><td>sysconvgroup</td><td>0,000000</td></tr><tr><td>syscscolsegments</td><td>0,000000</td></tr><tr><td>syscsdictionaries</td><td>0,000000</td></tr><tr><td>syscsrowgroups</td><td>0,000000</td></tr><tr><td>sysdbfiles</td><td>0,015625</td></tr><tr><td>sysdbfrag</td><td>0,000000</td></tr><tr><td>sysdbreg</td><td>0,000000</td></tr><tr><td>sysdercv</td><td>0,000000</td></tr><tr><td>sysdesend</td><td>0,000000</td></tr><tr><td>sysendpts</td><td>0,000000</td></tr><tr><td>sysextfileformats</td><td>0,000000</td></tr><tr><td>sysextsources</td><td>0,000000</td></tr><tr><td>sysexttables</td><td>0,000000</td></tr><tr><td>sysfgfrag</td><td>0,015625</td></tr><tr><td>sysfiles1</td><td>0,015625</td></tr><tr><td>sysfoqueues</td><td>0,000000</td></tr><tr><td>sysfos</td><td>0,000000</td></tr><tr><td>sysftinds</td><td>0,000000</td></tr><tr><td>sysftproperties</td><td>0,000000</td></tr><tr><td>sysftsemanticsdb</td><td>0,000000</td></tr><tr><td>sysftstops</td><td>0,000000</td></tr><tr><td>sysguidrefs</td><td>0,000000</td></tr><tr><td>sysidxstats</td><td>0,351562</td></tr><tr><td>sysiscols</td><td>0,093750</td></tr><tr><td>syslnklgns</td><td>0,000000</td></tr><tr><td>sysmultiobjrefs</td><td>0,070312</td></tr><tr><td>sysmultiobjvalues</td><td>0,000000</td></tr><tr><td>sysnsobjs</td><td>0,031250</td></tr><tr><td>sysobjkeycrypts</td><td>0,000000</td></tr><tr><td>sysobjvalues</td><td>4,679687</td></tr><tr><td>sysowners</td><td>0,046875</td></tr><tr><td>sysphfg</td><td>0,015625</td></tr><tr><td>syspriorities</td><td>0,000000</td></tr><tr><td>sysprivs</td><td>0,015625</td></tr><tr><td>syspru</td><td>0,000000</td></tr><tr><td>sysprufiles</td><td>0,015625</td></tr><tr><td>sysqnames</td><td>0,031250</td></tr><tr><td>sysremsvcbinds</td><td>0,000000</td></tr><tr><td>sysrmtlgns</td><td>0,000000</td></tr><tr><td>sysrowsetrefs</td><td>0,000000</td></tr><tr><td>sysrowsets</td><td>0,046875</td></tr><tr><td>sysrscols</td><td>0,257812</td></tr><tr><td>sysrts</td><td>0,046875</td></tr><tr><td>sysscalartypes</td><td>0,046875</td></tr><tr><td>sysschobjs</td><td>1,039062</td></tr><tr><td>sysseobjvalues</td><td>0,000000</td></tr><tr><td>syssingleobjrefs</td><td>0,078125</td></tr><tr><td>syssoftobjrefs</td><td>0,062500</td></tr><tr><td>syssqlguides</td><td>0,000000</td></tr><tr><td>systypedsubobjs</td><td>0,000000</td></tr><tr><td>sysusermsgs</td><td>0,000000</td></tr><tr><td>syswebmethods</td><td>0,000000</td></tr><tr><td>sysxlgns</td><td>0,000000</td></tr><tr><td>sysxmitbody</td><td>0,000000</td></tr><tr><td>sysxmitqueue</td><td>0,000000</td></tr><tr><td>sysxmlcomponent</td><td>0,031250</td></tr><tr><td>sysxmlfacet</td><td>0,015625</td></tr><tr><td>sysxmlplacement</td><td>0,031250</td></tr><tr><td>sysxprops</td><td>0,000000</td></tr><tr><td>sysxsrvs</td><td>0,000000</td></tr><tr><td>Telefone</td><td>240,203125</td></tr><tr><td>TelefoneBloqueadoProcon</td><td>29,906250</td></tr><tr><td>TemplateEmail</td><td>0,039062</td></tr><tr><td>TemplateSMS</td><td>0,015625</td></tr><tr><td>TipoDeficiencia</td><td>0,015625</td></tr><tr><td>Turma</td><td>9,937500</td></tr><tr><td>Unidade</td><td>0,085937</td></tr><tr><td>UnidadeVinculada</td><td>0,015625</td></tr><tr><td>UsersLogonHistory</td><td>22,976562</td></tr><tr><td>UsersLogonHistoryOLD</td><td>2,078125</td></tr><tr><td>Usuario</td><td>2,367187</td></tr><tr><td>ValorFiltroCampanha</td><td>0,000000</td></tr><tr><td>ValorFiltroRelatorio</td><td>5,476562</td></tr><tr><td>Vestibular</td><td>0,046875</td></tr><tr><td>wpr_bucket_table</td><td>0,000000</td></tr></table>"
                    },
                    "metadata": {}
                }
            ],
            "execution_count": 3
        },
        {
            "cell_type": "markdown",
            "source": [
                "## Monitoramento de conexões\n",
                "\n",
                "É possível usar a exibição [sys.dm\\_exec\\_connections](https://docs.microsoft.com/pt-br/sql/relational-databases/system-dynamic-management-views/sys-dm-exec-connections-transact-sql) para recuperar informações sobre as conexões estabelecidas com um servidor específico e uma instância gerenciada e os detalhes de cada conexão. Além disso, a exibição [sys.dm\\_exec\\_sessions](https://docs.microsoft.com/pt-br/sql/relational-databases/system-dynamic-management-views/sys-dm-exec-sessions-transact-sql) é útil ao recuperar informações sobre todas as conexões de usuário e tarefas internas ativas.\n",
                "\n",
                "A consulta a seguir recupera as informações sobre a conexão atual:"
            ],
            "metadata": {
                "azdata_cell_guid": "d377e1d2-8e21-432c-a1f9-dd33343743fe"
            }
        },
        {
            "cell_type": "code",
            "source": [
                "SELECT\r\n",
                "    c.session_id, c.net_transport, c.encrypt_option,\r\n",
                "    c.auth_scheme, s.host_name, s.program_name,\r\n",
                "    s.client_interface_name, s.login_name, s.nt_domain,\r\n",
                "    s.nt_user_name, s.original_login_name, c.connect_time,\r\n",
                "    s.login_time\r\n",
                "FROM sys.dm_exec_connections AS c\r\n",
                "JOIN sys.dm_exec_sessions AS s\r\n",
                "    ON c.session_id = s.session_id\r\n",
                "WHERE c.session_id = @@SPID;"
            ],
            "metadata": {
                "azdata_cell_guid": "04ca1f9e-1c4d-485c-86da-1df158a37b23"
            },
            "outputs": [],
            "execution_count": null
        },
        {
            "cell_type": "markdown",
            "source": [
                "<div style=\"background-color:#3b2e58;color:#e6e6e6\">\n",
                " Observação\n",
                "</div>\n",
                "<div style=\"background-color:#3b2e58;color:#e6e6e6\">\n",
                "Ao executar as exibições sys.dm\\_exec\\_requests e sys.dm\\_exec\\_sessions, se você tiver a permissão EXIBIR ESTADO DO BANCO DE DADOS no banco de dados, verá todas as sessões em execução no banco de dados; caso contrário, verá apenas a sessão atual.\n",
                "\n",
                "</div>"
            ],
            "metadata": {
                "azdata_cell_guid": "cc352424-07b5-408f-9ded-177911ed3928"
            }
        },
        {
            "cell_type": "markdown",
            "source": [
                "## Monitorar o uso de recursos\n",
                "\n",
                "Você pode monitorar o uso de recursos do Banco de Dados SQL do Azure usando a [Análise de Desempenho de Consultas de Banco de Dados SQL](https://docs.microsoft.com/pt-br/azure/azure-sql/database/query-performance-insight-use). Para o Banco de Dados SQL do Azure e o Instância Gerenciada de SQL do Azure, você pode monitorar usando [Repositório de Dados de Consultas](https://docs.microsoft.com/pt-br/sql/relational-databases/performance/monitoring-performance-by-using-the-query-store).\n",
                "\n",
                "Você também pode monitorar o uso com estes modos de exibições:\n",
                "\n",
                "- Banco de Dados SQL do Azure: [sys.dm\\_db\\_resource\\_stats](https://docs.microsoft.com/pt-br/sql/relational-databases/system-dynamic-management-views/sys-dm-db-resource-stats-azure-sql-database)\n",
                "- Instância Gerenciada de SQL do Azure: [Sys.server\\_resource\\_stats](https://docs.microsoft.com/pt-br/sql/relational-databases/system-catalog-views/sys-server-resource-stats-azure-sql-database)\n",
                "- Tanto o Banco de Dados SQL do Azure quanto a Instância Gerenciada de SQL do Azure: [sys.resource\\_stats](https://docs.microsoft.com/pt-br/sql/relational-databases/system-catalog-views/sys-resource-stats-azure-sql-database)"
            ],
            "metadata": {
                "azdata_cell_guid": "b2c026e3-f88b-47a6-b452-2ad1fc7dd828"
            }
        },
        {
            "cell_type": "markdown",
            "source": [
                "### sys.dm\\_db\\_resource\\_stats\n",
                "\n",
                "Você pode usar a exibição [sys.dm\\_db\\_resource\\_stats](https://docs.microsoft.com/pt-br/sql/relational-databases/system-dynamic-management-views/sys-dm-db-resource-stats-azure-sql-database) em cada banco de dados. A exibição sys.dm\\_db\\_resource\\_stats mostra dados de uso de recursos recentes em relação à camada de serviço. A porcentagem média de CPU, E/S de dados, gravações de log e memória é registrada a cada 15 segundos e armazenada por 1 hora.\n",
                "\n",
                "Como essa exibição oferece uma visão mais granular do uso de recursos, use sys.dm\\_db\\_resource\\_stats primeiro para qualquer análise de estado atual ou para solução de problemas. Por exemplo, esta consulta mostra o uso médio e máximo dos recursos do banco de dados atual durante a última hora:"
            ],
            "metadata": {
                "azdata_cell_guid": "b8848226-0907-4d4f-86c3-0a24def07699"
            }
        },
        {
            "cell_type": "code",
            "source": [
                "SELECT  \r\n",
                "    AVG(avg_cpu_percent) AS 'Average CPU use in percent',\r\n",
                "    MAX(avg_cpu_percent) AS 'Maximum CPU use in percent',\r\n",
                "    AVG(avg_data_io_percent) AS 'Average data IO in percent',\r\n",
                "    MAX(avg_data_io_percent) AS 'Maximum data IO in percent',\r\n",
                "    AVG(avg_log_write_percent) AS 'Average log write use in percent',\r\n",
                "    MAX(avg_log_write_percent) AS 'Maximum log write use in percent',\r\n",
                "    AVG(avg_memory_usage_percent) AS 'Average memory use in percent',\r\n",
                "    MAX(avg_memory_usage_percent) AS 'Maximum memory use in percent'\r\n",
                "FROM sys.dm_db_resource_stats;\r\n",
                ""
            ],
            "metadata": {
                "azdata_cell_guid": "5ead781f-aef0-4457-8cef-2945fcf54811"
            },
            "outputs": [],
            "execution_count": null
        },
        {
            "cell_type": "markdown",
            "source": [
                "<span style=\"color: rgb(230, 230, 230); font-family: &quot;Segoe UI&quot;, SegoeUI, &quot;Helvetica Neue&quot;, Helvetica, Arial, sans-serif; font-size: 16px; background-color: rgb(23, 23, 23);\">Para outras consultas, consulte os exemplos em&nbsp;</span> [sys.dm\\_db\\_resource\\_stats](https://docs.microsoft.com/pt-br/sql/relational-databases/system-dynamic-management-views/sys-dm-db-resource-stats-azure-sql-database)<span style=\"color: rgb(230, 230, 230); font-family: &quot;Segoe UI&quot;, SegoeUI, &quot;Helvetica Neue&quot;, Helvetica, Arial, sans-serif; font-size: 16px; background-color: rgb(23, 23, 23);\">.</span>"
            ],
            "metadata": {
                "azdata_cell_guid": "b5cd8f78-fe3b-46ea-a857-9b74bc19fbea"
            }
        },
        {
            "cell_type": "markdown",
            "source": [
                "### sys.server\\_resource\\_stats\n",
                "\n",
                "Você pode usar [sys.server\\_resource\\_stats](https://docs.microsoft.com/pt-br/sql/relational-databases/system-catalog-views/sys-server-resource-stats-azure-sql-database)retornar dados de uso de CPU, e/s e armazenamento para uma Instância Gerenciada de SQL do Azure. Os dados são coletados e agregados em intervalos de cinco minutos. Há uma linha para cada relatório de 15 segundos. Os dados retornados incluem uso de CPU, tamanho de armazenamento, utilização de e/s e SKU de instância gerenciada. Os dados históricos são retidos por aproximadamente 14 dias."
            ],
            "metadata": {
                "azdata_cell_guid": "ba757240-3145-4508-8f65-7d56f3627c29"
            }
        },
        {
            "cell_type": "code",
            "source": [
                "DECLARE @s datetime;  \r\n",
                "DECLARE @e datetime;  \r\n",
                "SET @s= DateAdd(d,-7,GetUTCDate());  \r\n",
                "SET @e= GETUTCDATE();  \r\n",
                "SELECT resource_name, AVG(avg_cpu_percent) AS Average_Compute_Utilization\r\n",
                "FROM sys.server_resource_stats\r\n",
                "WHERE start_time BETWEEN @s AND @e  \r\n",
                "GROUP BY resource_name  \r\n",
                "HAVING AVG(avg_cpu_percent) >= 80;"
            ],
            "metadata": {
                "azdata_cell_guid": "0174323b-f5cd-4233-9eb7-46c3c1cc47c2"
            },
            "outputs": [
                {
                    "output_type": "error",
                    "ename": "",
                    "evalue": "Msg 208, Level 16, State 1, Line 5\r\nInvalid object name 'sys.server_resource_stats'.",
                    "traceback": []
                },
                {
                    "output_type": "display_data",
                    "data": {
                        "text/html": "Total execution time: 00:00:00.003"
                    },
                    "metadata": {}
                }
            ],
            "execution_count": 9
        },
        {
            "cell_type": "markdown",
            "source": [
                "### sys. resource\\_stats\n",
                "\n",
                "A exibição [sys.resource\\_stats](https://docs.microsoft.com/pt-br/sql/relational-databases/system-catalog-views/sys-resource-stats-azure-sql-database) no banco de dados mestre tem mais informações que podem ajudá-lo a monitorar o desempenho do banco de dados em sua camada de serviço e tamanho da computação específicos. Os dados são coletados a cada 5 minutos e são mantidos por aproximadamente 14 dias. Essa exibição é útil para uma análise de histórico de longo prazo de como seu banco de dados usa recursos.\n",
                "\n",
                "O grafo a seguir mostra o uso de recursos da CPU para um banco de dados Premium com o tamanho da computação P2 para cada hora em uma semana. Esse grafo começa em uma segunda-feira, mostra cinco dias úteis e, depois, um fim de semana, em que ocorrem muito menos atividades no aplicativo.\n",
                "\n",
                "![Uso de recursos de banco de dados](https://docs.microsoft.com/pt-br/azure/azure-sql/database/media/monitoring-with-dmvs/sql_db_resource_utilization.png)\n",
                "\n",
                "Segundo os dados, atualmente esse banco de dados tem um pico de carga de CPU de pouco mais de 50% de uso da CPU em relação ao tamanho da computação P2 (meio-dia de terça-feira). Se a CPU for o fator dominante no perfil de recursos do aplicativo, talvez você decida que P2 é o tamanho da computação certo para garantir que a carga de trabalho sempre seja adequada. Se você espera que um aplicativo cresça com o passar do tempo, é uma boa ideia ter um buffer de recursos adicional para que o aplicativo nunca atinja o limite do nível de desempenho. Aumentando o tamanho da computação, você pode ajudar a evitar erros visíveis para os clientes, que podem ocorrer quando um banco de dados não tem capacidade suficiente para processar solicitações de modo eficaz, especialmente em ambientes sensíveis à latência. Um exemplo é um banco de dados que dá suporte a um aplicativo que pinta páginas da Web com base nos resultados de chamadas de banco de dados.\n",
                "\n",
                "Outros tipos de aplicativos podem interpretar o mesmo grafo de forma diferente. Por exemplo, se um aplicativo tentar processar dados de folha de pagamento por dia e incluir o mesmo gráfico, esse tipo de modelo de \"trabalho em lotes\" poderá funcionar bem em um tamanho da computação P1. O tamanho da computação P1 tem 100 DTUs, comparadas a 200 DTUs do tamanho da computação P2. O tamanho da computação P1 fornece que metade do desempenho do P2. Portanto, 50% de uso da CPU em P2 equivale a 100% de uso da CPU em P1. Se o aplicativo não tiver tempo limite, talvez não faça diferença se um trabalho demora 2 horas ou 2,5 horas para ser concluído, desde que seja concluído hoje. Um aplicativo dessa categoria provavelmente pode usar um tamanho da computação P1. Você pode tirar proveito do fato de que há períodos do dia em que o uso de recursos é menor, o que significa que um \"pico grande\" pode ser extrapolado para um dos ciclos mais tarde. O tamanho da computação P1 pode ser bom para esse tipo de aplicativo (e economiza dinheiro), desde que os trabalhos possam ser concluídos no horário todos os dias.\n",
                "\n",
                "O mecanismo de banco de dados expõe informações de recurso consumido para cada banco de dados ativo na exibição sys.resource\\_stats do banco de dados mestre em cada servidor. Os dados na tabela são agregados em intervalos de cinco minutos. Com as camadas de serviço Básica, Standard e Premium, os dados podem demorar mais de 5 minutos para aparecer na tabela, o que significa que esses dados são mais úteis para análise histórica do que para análise em tempo real. Consulte a exibição sys.resource\\_stats para ver o histórico recente de um banco de dados e validar se a reserva escolhida ofereceu o desempenho desejado quando necessário.\n",
                "\n",
                "  \n",
                "<div style=\"background-color:#3b2e58;color:#e6e6e6\">\n",
                " Observação\n",
                "</div>\n",
                "<div style=\"background-color:#3b2e58;color:#e6e6e6\">\n",
                "No Banco de Dados SQL do Azure, você precisa estar conectado ao banco de dados mestre para consultar sys.resource\\_stats nos exemplos a seguir.\n",
                "</div>\n",
                "Este exemplo mostra como os dados nesse modo de exibição são expostos:"
            ],
            "metadata": {
                "azdata_cell_guid": "0b89a92a-125c-40e4-981b-558c16c51af4"
            }
        },
        {
            "cell_type": "code",
            "source": [
                "SELECT TOP 10 *\r\n",
                "FROM sys.resource_stats\r\n",
                "WHERE database_name = 'resource1'\r\n",
                "ORDER BY start_time DESC;"
            ],
            "metadata": {
                "azdata_cell_guid": "4b27a114-9b23-4476-a3aa-9f9c5f28684e",
                "tags": []
            },
            "outputs": [
                {
                    "output_type": "error",
                    "ename": "",
                    "evalue": "Msg 208, Level 16, State 1, Line 1\r\nInvalid object name 'sys.resource_stats'.",
                    "traceback": []
                },
                {
                    "output_type": "display_data",
                    "data": {
                        "text/html": "Total execution time: 00:00:00.002"
                    },
                    "metadata": {}
                }
            ],
            "execution_count": 3
        },
        {
            "cell_type": "markdown",
            "source": [
                "O exemplo seguinte mostra diferentes maneiras de usar o modo de exibição de catálogo sys.resource\\_stats para obter informações sobre como o banco de dados usa recursos:\n",
                "\n",
                "1. Para examinar o uso de recursos da última semana para o banco de dados userdb1, você pode executar esta consulta:"
            ],
            "metadata": {
                "azdata_cell_guid": "8d4168d7-1608-4aef-9bdf-af50529548b6"
            }
        },
        {
            "cell_type": "code",
            "source": [
                "SELECT *\r\n",
                "FROM sys.resource_stats\r\n",
                "WHERE database_name = 'userdb1' AND\r\n",
                "    start_time > DATEADD(day, -7, GETDATE())\r\n",
                "ORDER BY start_time DESC;"
            ],
            "metadata": {
                "azdata_cell_guid": "224ee8d5-8caf-4830-b7dd-17d56b8f4e54"
            },
            "outputs": [],
            "execution_count": null
        },
        {
            "cell_type": "markdown",
            "source": [
                "<span style=\"; font-family: &quot;Segoe UI&quot;, SegoeUI, &quot;Helvetica Neue&quot;, Helvetica, Arial, sans-serif; font-size: 16px; \">2.Para avaliar como sua carga de trabalho se ajusta ao tamanho da computação, você precisa fazer uma pesquisa detalhada de cada aspecto das métricas de recursos: CPU, leituras, gravações, número de trabalhadores e número de sessões. Veja uma consulta revisada usando&nbsp;</span> <span style=\"box-sizing: inherit; font-weight: 600; outline-color: inherit;  font-family: &quot;Segoe UI&quot;, SegoeUI, &quot;Helvetica Neue&quot;, Helvetica, Arial, sans-serif; font-size: 16px; \">sys.resource_stats</span> <span style=\" font-family: &quot;Segoe UI&quot;, SegoeUI, &quot;Helvetica Neue&quot;, Helvetica, Arial, sans-serif; font-size: 16px; \">&nbsp;para relatar os valores médio e máximo dessas métricas de recursos:</span>"
            ],
            "metadata": {
                "azdata_cell_guid": "66c1dad6-f9fb-40f1-b57c-4cfb01575148"
            }
        },
        {
            "cell_type": "code",
            "source": [
                "SELECT\r\n",
                "    avg(avg_cpu_percent) AS 'Average CPU use in percent',\r\n",
                "    max(avg_cpu_percent) AS 'Maximum CPU use in percent',\r\n",
                "    avg(avg_data_io_percent) AS 'Average physical data IO use in percent',\r\n",
                "    max(avg_data_io_percent) AS 'Maximum physical data IO use in percent',\r\n",
                "    avg(avg_log_write_percent) AS 'Average log write use in percent',\r\n",
                "    max(avg_log_write_percent) AS 'Maximum log write use in percent',\r\n",
                "    avg(max_session_percent) AS 'Average % of sessions',\r\n",
                "    max(max_session_percent) AS 'Maximum % of sessions',\r\n",
                "    avg(max_worker_percent) AS 'Average % of workers',\r\n",
                "    max(max_worker_percent) AS 'Maximum % of workers'\r\n",
                "FROM sys.resource_stats\r\n",
                "WHERE database_name = 'userdb1' AND start_time > DATEADD(day, -7, GETDATE());"
            ],
            "metadata": {
                "azdata_cell_guid": "63f4664c-3835-430d-8263-fa685118a066"
            },
            "outputs": [],
            "execution_count": null
        },
        {
            "cell_type": "markdown",
            "source": [
                "3.Com essas informações sobre os valores médio e máximo de cada métrica de recurso, você pode avaliar como sua carga de trabalho se ajusta ao tamanho da computação escolhido. Normalmente, os valores médios de sys.resource\\_stats oferecem uma boa linha de base a ser usada em comparação ao tamanho de destino. Deve ser seu cartão de medida principal. Por exemplo, você pode estar usando a camada de serviço Standard com o tamanho da computação S2. Os percentuais médios de uso da CPU e leituras e gravações de E/S estão abaixo de 40%, o número médio de trabalhadores está abaixo de 50 e o número médio de sessões é inferior a 200. Talvez a carga de trabalho se enquadre no tamanho da computação S1. É fácil ver se o banco de dados se encaixa nos limites de sessão e de trabalho. Para ver se um banco de dados se enquadra em um tamanho da computação inferior em relação à CPU, leituras e gravações, divida o número de DTU do tamanho da computação inferior pelo número de DTU do tamanho da computação atual e multiplique o resultado por 100:\n",
                "\n",
                "```\n",
                "S1 DTU / S2 DTU * 100 = 20 / 50 * 100 = 40\n",
                "```\n",
                "\n",
                "O resultado é a diferença de desempenho relativa entre os dois tamanhos da computação em percentual. Se seu uso de recursos não ultrapassar esse valor, sua carga de trabalho poderá se enquadrar no tamanho da computação inferior. No entanto, você precisa examinar todos os intervalos de valores de uso de recursos e determinar, pelo percentual, com que frequência a carga de trabalho do banco de dados se enquadraria no tamanho da computação inferior. A consulta a seguir produz o percentual de ajuste por dimensão de recurso, com base no limite de 40% que calculamos neste exemplo:"
            ],
            "metadata": {
                "azdata_cell_guid": "1b5708e6-6011-450d-b0c8-92fc83f14bca"
            }
        },
        {
            "cell_type": "code",
            "source": [
                "SELECT\r\n",
                "     (COUNT(database_name) - SUM(CASE WHEN avg_cpu_percent >= 40 THEN 1 ELSE 0 END) * 1.0) / COUNT(database_name) AS 'CPU Fit Percent',\r\n",
                "     (COUNT(database_name) - SUM(CASE WHEN avg_log_write_percent >= 40 THEN 1 ELSE 0 END) * 1.0) / COUNT(database_name) AS 'Log Write Fit Percent',\r\n",
                "     (COUNT(database_name) - SUM(CASE WHEN avg_data_io_percent >= 40 THEN 1 ELSE 0 END) * 1.0) / COUNT(database_name) AS 'Physical Data IO Fit Percent'\r\n",
                " FROM sys.resource_stats\r\n",
                " WHERE database_name = 'userdb1' AND start_time > DATEADD(day, -7, GETDATE());"
            ],
            "metadata": {
                "azdata_cell_guid": "8473d5c0-b324-4bf6-bad0-94ea91ab2d40"
            },
            "outputs": [],
            "execution_count": null
        },
        {
            "cell_type": "markdown",
            "source": [
                "Com base na camada de serviço do banco de dados, você pode decidir se sua carga de trabalho se enquadra no tamanho da computação inferior. Se a meta de carga de trabalho do banco de dados é de 99,9% e a consulta anterior retorna valores superiores a 99,9% para as três dimensões de recursos, é provável que sua carga de trabalho se enquadre no tamanho da computação inferior.\n",
                "\n",
                "A avaliação do percentual de ajuste também traz informações que indicam se você deve ir ao próximo tamanho da computação para chegar à sua meta. Por exemplo, userdb1 mostra o seguinte uso da CPU para a semana passada:\n",
                "\n",
                "<caption class=\"visually-hidden\" style=\"box-sizing: inherit; outline-color: inherit; border-width: 0px 0px 1px; border-style: solid; border-color: var(--theme-border); border-image: initial; clip: rect(1px, 1px, 1px, 1px); clip-path: inset(50%); height: 1px; margin: -1px; overflow: hidden; padding: 1.125rem; position: absolute; width: 1px; overflow-wrap: normal; font-size: 0.8rem; font-weight: 600; letter-spacing: 2px; text-transform: uppercase; text-align: right;\">TABELA 1</caption>\n",
                "\t\t\t\t\n",
                "| Percentual médio da CPU | Percentual máximo da CPU |\n",
                "| --- | --- |\n",
                "| 24,5 | 100,00 |\n",
                "\n",
                "A média da CPU é de aproximadamente um quarto do limite do tamanho da computação, o que se ajustaria bem ao tamanho da computação do banco de dados. No entanto, o valor máximo mostra que o banco de dados atinge o limite do tamanho da computação. Você precisa ir para o próximo tamanho da computação? Avalie quantas vezes sua carga de trabalho atinge 100% e compará-la à meta de carga de trabalho de seu banco de dados."
            ],
            "metadata": {
                "azdata_cell_guid": "9a15b589-4889-4763-8606-985a6b5aa5db"
            }
        },
        {
            "cell_type": "code",
            "source": [
                "SELECT\r\n",
                "    (COUNT(database_name) - SUM(CASE WHEN avg_cpu_percent >= 100 THEN 1 ELSE 0 END) * 1.0) / COUNT(database_name) AS 'CPU fit percent'\r\n",
                "    ,(COUNT(database_name) - SUM(CASE WHEN avg_log_write_percent >= 100 THEN 1 ELSE 0 END) * 1.0) / COUNT(database_name) AS 'Log write fit percent'\r\n",
                "    ,(COUNT(database_name) - SUM(CASE WHEN avg_data_io_percent >= 100 THEN 1 ELSE 0 END) * 1.0) / COUNT(database_name) AS 'Physical data IO fit percent'\r\n",
                "    FROM sys.resource_stats\r\n",
                "    WHERE database_name = 'userdb1' AND start_time > DATEADD(day, -7, GETDATE());"
            ],
            "metadata": {
                "azdata_cell_guid": "95c94079-ae23-48e7-a5a1-49bf1a941c61"
            },
            "outputs": [],
            "execution_count": null
        },
        {
            "cell_type": "markdown",
            "source": [
                "1. Se essa consulta retornar um valor inferior a 99,9% para qualquer uma das três dimensões de recursos, considere passar para o tamanho da computação superior ou use técnicas de ajuste de aplicativo para reduzir a carga no banco de dados.\n",
                "    \n",
                "2. Este exercício também leva em consideração o aumento projetado da carga de trabalho no futuro.\n",
                "    \n",
                "\n",
                "Para pools elásticos, você pode monitorar bancos de dados autônomos no pool com as técnicas descritas nesta seção. Mas você também pode monitorar o pool como um todo. Para saber mais, veja [Monitorar e gerenciar um pool elásticos](https://docs.microsoft.com/pt-br/azure/azure-sql/database/elastic-pool-overview)."
            ],
            "metadata": {
                "azdata_cell_guid": "529ba520-ec07-4428-9353-8bf2298e0789"
            }
        }
    ]
}