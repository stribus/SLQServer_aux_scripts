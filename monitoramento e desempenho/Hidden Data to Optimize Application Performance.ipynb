{
    "metadata": {
        "kernelspec": {
            "name": "SQL",
            "display_name": "SQL",
            "language": "sql"
        },
        "language_info": {
            "name": "sql",
            "version": ""
        }
    },
    "nbformat_minor": 2,
    "nbformat": 4,
    "cells": [
        {
            "cell_type": "markdown",
            "source": [
                "https://docs.microsoft.com/pt-br/archive/msdn-magazine/2008/january/sql-server-uncover-hidden-data-to-optimize-application-performance"
            ],
            "metadata": {
                "azdata_cell_guid": "289c64b6-f38f-4aa4-8246-cba2a86c2e61"
            }
        },
        {
            "cell_type": "markdown",
            "source": [
                "Many application performance problems can be traced to poorly performing database queries; however, there are many ways you can improve database performance. SQL ServerTM 2005 gathers a lot of information that you can use to identify the causes of such performance issues.\n",
                "\n",
                "SQL Server 2005 collects data relating to running queries. This data, which is held in memory and starts accumulating after a server restart, can be used to identify numerous issues and metrics, including those surrounding table indexes, query performance, and server I/O. You can query this data via the SQL Server Dynamic Management Views (DMVs) and related Dynamic Management Functions (DMFs). These are system-based views and functions that present server state information that can be used to diagnose problems and tune database performance.\n",
                "\n",
                "In this article, I will highlight areas where performance can be improved by using information that is already being gathered by SQL Server 2005. This approach is largely non-intrusive, as it collects and examines existing data, typically querying underlying system data.\n",
                "\n",
                "I will demonstrate how to obtain this information, discuss the underlying DMVs, identify any caveats to be aware of when interpreting the data, and point you to additional areas where you might be able to realize performance improvements. To do this, I will present and examine a series of SQL scripts that detail the various aspects of the data collected by SQL Server 2005. A complete and fully commented version of this script can be downloaded from the MSDN® Magazine Web site.\n",
                "\n",
                "Some of the steps I will discuss concentrate on the server as a whole, including all the databases hosted on a given server. When necessary, it is possible to concentrate on a given database by adding the appropriate filtering, such as adding its name to the query.\n",
                "\n",
                "Conversely, some of the queries join to the sys.indexes DMV, which is a database-specific view that reports results only for the current database. In these cases, I amended the queries to iterate over all the databases on the server by using the system stored procedure sp\\_MSForEachDB, thus presenting server-wide results.\n",
                "\n",
                "In order to target the most relevant records for a given performance metric, I will limit the number of records returned using the SQL TOP function."
            ],
            "metadata": {
                "azdata_cell_guid": "9752af60-b709-4b18-a30a-fa71f2252843"
            }
        },
        {
            "cell_type": "markdown",
            "source": [
                "## **Causes of Server Waits**\n",
                "\n",
                "A user typically experiences poor performance as a series of waits. Whenever a SQL query is able to run but is waiting on another resource, it records details about the cause of the wait. These details can be accessed using the sys.dm\\_os\\_wait\\_stats DMV. You can examine the accumulated cause of all the waits using the SQL script"
            ],
            "metadata": {
                "azdata_cell_guid": "1ab12da2-de5a-4582-8f5c-3f24290c74c7"
            }
        },
        {
            "cell_type": "code",
            "source": [
                "SELECT\r\n",
                "    TOP 10\r\n",
                "    [Wait type] = wait_type\r\n",
                "    ,[Wait time (s)] = wait_time_ms / 1000\r\n",
                "    ,[% waiting] = CONVERT(DECIMAL(12,2), wait_time_ms * 100.0 / SUM(wait_time_ms) OVER())\r\n",
                "FROM\r\n",
                "    sys.dm_os_wait_stats\r\n",
                "WHERE wait_type NOT LIKE '%SLEEP%'\r\n",
                "ORDER BY wait_time_ms DESC;"
            ],
            "metadata": {
                "azdata_cell_guid": "b48d43c6-110f-4ad4-9dc9-5e8d5c8f1d9b",
                "tags": [
                    "hide_input"
                ]
            },
            "outputs": [
                {
                    "output_type": "display_data",
                    "data": {
                        "text/html": "(10 rows affected)"
                    },
                    "metadata": {}
                },
                {
                    "output_type": "display_data",
                    "data": {
                        "text/html": "Total execution time: 00:00:19.391"
                    },
                    "metadata": {}
                },
                {
                    "output_type": "execute_result",
                    "execution_count": 1,
                    "data": {
                        "application/vnd.dataresource+json": {
                            "schema": {
                                "fields": [
                                    {
                                        "name": "Wait type"
                                    },
                                    {
                                        "name": "Wait time (s)"
                                    },
                                    {
                                        "name": "% waiting"
                                    }
                                ]
                            },
                            "data": [
                                {
                                    "0": "HADR_WORK_QUEUE",
                                    "1": "37745082",
                                    "2": "49,07"
                                },
                                {
                                    "0": "BROKER_TASK_STOP",
                                    "1": "4754907",
                                    "2": "6,18"
                                },
                                {
                                    "0": "CLR_AUTO_EVENT",
                                    "1": "3600558",
                                    "2": "4,68"
                                },
                                {
                                    "0": "HADR_NOTIFICATION_DEQUEUE",
                                    "1": "3599878",
                                    "2": "4,68"
                                },
                                {
                                    "0": "BROKER_TRANSMITTER",
                                    "1": "3599084",
                                    "2": "4,68"
                                },
                                {
                                    "0": "DISPATCHER_QUEUE_SEMAPHORE",
                                    "1": "1874467",
                                    "2": "2,44"
                                },
                                {
                                    "0": "HADR_CLUSAPI_CALL",
                                    "1": "1801359",
                                    "2": "2,34"
                                },
                                {
                                    "0": "HADR_FILESTREAM_IOMGR_IOCOMPLETION",
                                    "1": "1800277",
                                    "2": "2,34"
                                },
                                {
                                    "0": "DIRTY_PAGE_POLL",
                                    "1": "1800194",
                                    "2": "2,34"
                                },
                                {
                                    "0": "REQUEST_FOR_DEADLOCK_SEARCH",
                                    "1": "1800174",
                                    "2": "2,34"
                                }
                            ]
                        },
                        "text/html": "<table><tr><th>Wait type</th><th>Wait time (s)</th><th>% waiting</th></tr><tr><td>HADR_WORK_QUEUE</td><td>37745082</td><td>49,07</td></tr><tr><td>BROKER_TASK_STOP</td><td>4754907</td><td>6,18</td></tr><tr><td>CLR_AUTO_EVENT</td><td>3600558</td><td>4,68</td></tr><tr><td>HADR_NOTIFICATION_DEQUEUE</td><td>3599878</td><td>4,68</td></tr><tr><td>BROKER_TRANSMITTER</td><td>3599084</td><td>4,68</td></tr><tr><td>DISPATCHER_QUEUE_SEMAPHORE</td><td>1874467</td><td>2,44</td></tr><tr><td>HADR_CLUSAPI_CALL</td><td>1801359</td><td>2,34</td></tr><tr><td>HADR_FILESTREAM_IOMGR_IOCOMPLETION</td><td>1800277</td><td>2,34</td></tr><tr><td>DIRTY_PAGE_POLL</td><td>1800194</td><td>2,34</td></tr><tr><td>REQUEST_FOR_DEADLOCK_SEARCH</td><td>1800174</td><td>2,34</td></tr></table>"
                    },
                    "metadata": {}
                }
            ],
            "execution_count": 1
        },
        {
            "cell_type": "markdown",
            "source": [
                "## **Reads and Writes**\n",
                "\n",
                "High I/O usage can be an indicator of poor data access mechanisms. SQL Server 2005 keeps track of the total number of reads and writes that each query uses to fulfill its needs. You can sum these numbers to determine which databases perform the most overall reads and writes.\n",
                "\n",
                "The sys.dm\\_exec\\_query\\_stats DMV contains aggregate performance statistics for cached query plans. This includes information about the number of logical reads and writes and the number of times the query has executed. When you join this DMV to the sys.dm\\_exec\\_sql\\_text DMF, you can sum the number of reads and writes by database. Notice that I use the new SQL Server 2005 CROSS APPLY operator to handle this join. The script I use to identify which databases are using the most reads and writes"
            ],
            "metadata": {
                "azdata_cell_guid": "dda287ec-0c39-440d-a38f-5a6345af5065"
            }
        },
        {
            "cell_type": "code",
            "source": [
                "SELECT\r\n",
                "    TOP 10\r\n",
                "    [Total Reads] = SUM(total_logical_reads)\r\n",
                "    ,[Execution count] = SUM(qs.execution_count)\r\n",
                "    ,DatabaseName = DB_NAME(qt.dbid)\r\n",
                "FROM\r\n",
                "    sys.dm_exec_query_stats qs \r\n",
                "    CROSS APPLY sys.dm_exec_sql_text(qs.sql_handle) AS qt\r\n",
                "GROUP BY DB_NAME(qt.dbid)\r\n",
                "ORDER BY [Total Reads] DESC;\r\n",
                "\r\n",
                "\r\n",
                "\r\n",
                "SELECT\r\n",
                "    TOP 10\r\n",
                "    [Total Writes] = SUM(total_logical_writes)\r\n",
                "    ,[Execution count] = SUM(qs.execution_count)\r\n",
                "    ,DatabaseName = DB_NAME(qt.dbid)\r\n",
                "FROM\r\n",
                "    sys.dm_exec_query_stats qs\r\n",
                "     CROSS APPLY sys.dm_exec_sql_text(qs.sql_handle) AS qt\r\n",
                "GROUP BY DB_NAME(qt.dbid)\r\n",
                "ORDER BY [Total Writes] DESC;"
            ],
            "metadata": {
                "azdata_cell_guid": "cc84e481-b909-41cb-91f9-517ee58533af",
                "tags": [
                    "hide_input"
                ]
            },
            "outputs": [
                {
                    "output_type": "display_data",
                    "data": {
                        "text/html": "(10 rows affected)"
                    },
                    "metadata": {}
                },
                {
                    "output_type": "display_data",
                    "data": {
                        "text/html": "(10 rows affected)"
                    },
                    "metadata": {}
                },
                {
                    "output_type": "display_data",
                    "data": {
                        "text/html": "Total execution time: 00:00:01.527"
                    },
                    "metadata": {}
                },
                {
                    "output_type": "execute_result",
                    "execution_count": 2,
                    "data": {
                        "application/vnd.dataresource+json": {
                            "schema": {
                                "fields": [
                                    {
                                        "name": "Total Reads"
                                    },
                                    {
                                        "name": "Execution count"
                                    },
                                    {
                                        "name": "DatabaseName"
                                    }
                                ]
                            },
                            "data": [
                                {
                                    "0": "33879587301",
                                    "1": "28088071",
                                    "2": "NULL"
                                },
                                {
                                    "0": "1577500819",
                                    "1": "178633",
                                    "2": "Integracao_BlackBoard"
                                },
                                {
                                    "0": "394126300",
                                    "1": "137383",
                                    "2": "Senac_Producao"
                                },
                                {
                                    "0": "162790692",
                                    "1": "2792",
                                    "2": "CRM"
                                },
                                {
                                    "0": "114780077",
                                    "1": "1732613",
                                    "2": "msdb"
                                },
                                {
                                    "0": "81824024",
                                    "1": "32",
                                    "2": "SESC_SENAC"
                                },
                                {
                                    "0": "28243100",
                                    "1": "79",
                                    "2": "PIMv2"
                                },
                                {
                                    "0": "15704441",
                                    "1": "85499",
                                    "2": "Wifi"
                                },
                                {
                                    "0": "11300389",
                                    "1": "1843436",
                                    "2": "DBMon"
                                },
                                {
                                    "0": "5031493",
                                    "1": "1475",
                                    "2": "PainelEAD"
                                }
                            ]
                        },
                        "text/html": "<table><tr><th>Total Reads</th><th>Execution count</th><th>DatabaseName</th></tr><tr><td>33879587301</td><td>28088071</td><td>NULL</td></tr><tr><td>1577500819</td><td>178633</td><td>Integracao_BlackBoard</td></tr><tr><td>394126300</td><td>137383</td><td>Senac_Producao</td></tr><tr><td>162790692</td><td>2792</td><td>CRM</td></tr><tr><td>114780077</td><td>1732613</td><td>msdb</td></tr><tr><td>81824024</td><td>32</td><td>SESC_SENAC</td></tr><tr><td>28243100</td><td>79</td><td>PIMv2</td></tr><tr><td>15704441</td><td>85499</td><td>Wifi</td></tr><tr><td>11300389</td><td>1843436</td><td>DBMon</td></tr><tr><td>5031493</td><td>1475</td><td>PainelEAD</td></tr></table>"
                    },
                    "metadata": {}
                },
                {
                    "output_type": "execute_result",
                    "execution_count": 2,
                    "data": {
                        "application/vnd.dataresource+json": {
                            "schema": {
                                "fields": [
                                    {
                                        "name": "Total Writes"
                                    },
                                    {
                                        "name": "Execution count"
                                    },
                                    {
                                        "name": "DatabaseName"
                                    }
                                ]
                            },
                            "data": [
                                {
                                    "0": "18758573",
                                    "1": "28088084",
                                    "2": "NULL"
                                },
                                {
                                    "0": "3554377",
                                    "1": "178633",
                                    "2": "Integracao_BlackBoard"
                                },
                                {
                                    "0": "3086352",
                                    "1": "1732613",
                                    "2": "msdb"
                                },
                                {
                                    "0": "1315170",
                                    "1": "137383",
                                    "2": "Senac_Producao"
                                },
                                {
                                    "0": "313699",
                                    "1": "79",
                                    "2": "PIMv2"
                                },
                                {
                                    "0": "168177",
                                    "1": "2792",
                                    "2": "CRM"
                                },
                                {
                                    "0": "99964",
                                    "1": "32",
                                    "2": "SESC_SENAC"
                                },
                                {
                                    "0": "74054",
                                    "1": "85499",
                                    "2": "Wifi"
                                },
                                {
                                    "0": "52722",
                                    "1": "1475",
                                    "2": "PainelEAD"
                                },
                                {
                                    "0": "20835",
                                    "1": "1843436",
                                    "2": "DBMon"
                                }
                            ]
                        },
                        "text/html": "<table><tr><th>Total Writes</th><th>Execution count</th><th>DatabaseName</th></tr><tr><td>18758573</td><td>28088084</td><td>NULL</td></tr><tr><td>3554377</td><td>178633</td><td>Integracao_BlackBoard</td></tr><tr><td>3086352</td><td>1732613</td><td>msdb</td></tr><tr><td>1315170</td><td>137383</td><td>Senac_Producao</td></tr><tr><td>313699</td><td>79</td><td>PIMv2</td></tr><tr><td>168177</td><td>2792</td><td>CRM</td></tr><tr><td>99964</td><td>32</td><td>SESC_SENAC</td></tr><tr><td>74054</td><td>85499</td><td>Wifi</td></tr><tr><td>52722</td><td>1475</td><td>PainelEAD</td></tr><tr><td>20835</td><td>1843436</td><td>DBMon</td></tr></table>"
                    },
                    "metadata": {}
                }
            ],
            "execution_count": 2
        },
        {
            "cell_type": "markdown",
            "source": [
                "## **Missing Indexes by Database**\n",
                "\n",
                "When SQL Server processes a query, the optimizer keeps a record of the indexes it attempts to use to satisfy the query. If these indexes are not found, SQL Server creates a record of the missing index. This information can be viewed using the sys.dm\\_db\\_missing\\_index\\_details DMV.\n",
                "\n",
                "You can show which databases on a given server are missing indexes using the script shown in Figure 3. Discovering these missing indexes is important because the indexes will often provide an ideal path to retrieving query data. In turn, this can reduce I/O and improve overall performance. My script examines sys.dm\\_db\\_missing\\_index\\_details and sums up the number of missing indexes per database, making it easy to determine which databases need further investigation."
            ],
            "metadata": {
                "azdata_cell_guid": "0f10d00d-2140-4766-943a-68689822b66d"
            }
        },
        {
            "cell_type": "code",
            "source": [
                "SELECT\r\n",
                "    DatabaseName = DB_NAME(database_id) \r\n",
                "    ,[Number Indexes Missing] = count(*)\r\n",
                "FROM\r\n",
                "    sys.dm_db_missing_index_details\r\n",
                "GROUP BY DB_NAME(database_id)\r\n",
                "ORDER BY 2 DESC;"
            ],
            "metadata": {
                "azdata_cell_guid": "0ab8dfa9-46e9-4559-9ee2-4b30813ffe3b",
                "tags": [
                    "hide_input"
                ]
            },
            "outputs": [
                {
                    "output_type": "display_data",
                    "data": {
                        "text/html": "(9 rows affected)"
                    },
                    "metadata": {}
                },
                {
                    "output_type": "display_data",
                    "data": {
                        "text/html": "Total execution time: 00:00:00.038"
                    },
                    "metadata": {}
                },
                {
                    "output_type": "execute_result",
                    "execution_count": 3,
                    "data": {
                        "application/vnd.dataresource+json": {
                            "schema": {
                                "fields": [
                                    {
                                        "name": "DatabaseName"
                                    },
                                    {
                                        "name": "Number Indexes Missing"
                                    }
                                ]
                            },
                            "data": [
                                {
                                    "0": "CRM",
                                    "1": "235"
                                },
                                {
                                    "0": "PainelEAD",
                                    "1": "122"
                                },
                                {
                                    "0": "Integracao_BlackBoard",
                                    "1": "73"
                                },
                                {
                                    "0": "PIMv2",
                                    "1": "16"
                                },
                                {
                                    "0": "Senac_Producao",
                                    "1": "14"
                                },
                                {
                                    "0": "Integrador",
                                    "1": "5"
                                },
                                {
                                    "0": "msdb",
                                    "1": "4"
                                },
                                {
                                    "0": "Wifi",
                                    "1": "2"
                                },
                                {
                                    "0": "PainelGestao",
                                    "1": "1"
                                }
                            ]
                        },
                        "text/html": "<table><tr><th>DatabaseName</th><th>Number Indexes Missing</th></tr><tr><td>CRM</td><td>235</td></tr><tr><td>PainelEAD</td><td>122</td></tr><tr><td>Integracao_BlackBoard</td><td>73</td></tr><tr><td>PIMv2</td><td>16</td></tr><tr><td>Senac_Producao</td><td>14</td></tr><tr><td>Integrador</td><td>5</td></tr><tr><td>msdb</td><td>4</td></tr><tr><td>Wifi</td><td>2</td></tr><tr><td>PainelGestao</td><td>1</td></tr></table>"
                    },
                    "metadata": {}
                }
            ],
            "execution_count": 3
        },
        {
            "cell_type": "markdown",
            "source": [
                "## **Costly Missing Indexes**\n",
                "\n",
                "[https://docs.microsoft.com/pt-br/sql/relational-databases/system-dynamic-management-views/sys-dm-db-missing-index-group-stats-transact-sql?view=sql-server-ver15](https://docs.microsoft.com/pt-br/sql/relational-databases/system-dynamic-management-views/sys-dm-db-missing-index-group-stats-transact-sql?view=sql-server-ver15)  \n",
                "\n",
                "Indexes will have varying levels of impact on query performance. You can drill down into the most costly missing indexes across all the databases on the server, finding out which missing indexes are likely to have the most significant positive impact on performance. The sys.dm\\_db\\_missing\\_index\\_group\\_stats DMV notes the number of times SQL has attempted to use a particular missing index. The sys.dm\\_db\\_missing\\_index\\_details DMV details the missing index structure, such as the columns required by the query. These two DMVs are linked together via the sys.dm\\_db\\_missing\\_index\\_groups DMV. The cost of the missing index (the total cost column) is calculated as the product of the average total user cost and the average user impact multiplied by the sum of the user seeks and user scans. You can use the script shown in Figure 4 to identify the most costly missing indexes. The results of this query, which are ordered by Total Cost, show the cost of the most important missing indexes along with details about the database/schema/table and the columns required in the missing indexes. Specifically, this script identifies which columns are used in equality and inequality SQL statements. Additionally, it reports which other columns should be used as included columns in a missing index. Included columns allow you to satisfy more covered queries without obtaining the data from the underlying page, thus using fewer I/O operations and improving performance."
            ],
            "metadata": {
                "azdata_cell_guid": "9b53a709-a241-438e-bf32-e64a5c6b305b"
            }
        },
        {
            "cell_type": "code",
            "source": [
                "SELECT\n",
                "    TOP 10\n",
                "    [Total Cost] = ROUND((avg_total_user_cost * avg_user_impact * (user_seeks + user_scans))/100,0) \n",
                "    ,avg_user_impact /*porcentagem media de melhoria por consulta*/\n",
                "    ,(user_seeks + user_scans) query_count\n",
                "    ,TableName = statement \n",
                "    ,[EqualityUsage] = equality_columns \n",
                "    ,[InequalityUsage] = inequality_columns \n",
                "    ,[Include Cloumns] = included_columns\n",
                "FROM\n",
                "    sys.dm_db_missing_index_groups g\n",
                "    INNER JOIN sys.dm_db_missing_index_group_stats s ON s.group_handle = g.index_group_handle\n",
                "    INNER JOIN sys.dm_db_missing_index_details d ON d.index_handle = g.index_handle\n",
                "ORDER BY [Total Cost] DESC;"
            ],
            "metadata": {
                "azdata_cell_guid": "4de7bc16-167b-41b7-b2d1-024a7aeb95c9",
                "tags": []
            },
            "outputs": [],
            "execution_count": 2
        },
        {
            "cell_type": "markdown",
            "source": [
                "Note that the results do not specify the order in which the columns in the required index should be created. To determine this, you should inspect your collective SQL code base. As a general rule, the most selected columns should appear first in the index.\n",
                "\n",
                "I should also point out that only the user columns (such as user\\_seeks and user\\_scans) are considered in calculating the cost of the missing index. This is because system columns tend to represent using statistics, Database Consistency Checking (DBCC), and Data Definition Language (DDL) commands, and these are less critical to fulfilling the business functionality (as opposed to the database admin functionality).\n",
                "\n",
                "It is very important for you to remember that you need to take special consideration with regard to the potential cost of the additional index when any data modifications occur in the underlying table. For this reason, additional research into the underlying SQL code base should be undertaken.\n",
                "\n",
                "If you find that numerous columns are recommended as columns to include, you should examine the underlying SQL since this may indicate that the catchall \"SELECT \\*\" statement is being used—if this turns out to indeed be the case, you should probably revise your select queries."
            ],
            "metadata": {
                "azdata_cell_guid": "e54723b2-1eb0-49ec-ac9a-01c052bf79e2"
            }
        },
        {
            "cell_type": "markdown",
            "source": [
                "## **Unused Indexes**\n",
                "\n",
                "Unused indexes can have a negative impact on performance. This is because when the underlying table data is modified, the index may need to be updated also. This, of course, takes additional time and can even increase the probability of blocking.\n",
                "\n",
                "When an index is used to satisfy a query and when it is updated as a result of updates applied to the underlying table data, SQL Server updates the corresponding index usage details. These usage details can be viewed to identify any unused indexes.\n",
                "\n",
                "The sys.dm\\_db\\_index\\_usage\\_stats DMV tells how often and to what extent indexes are used. It is joined to the sys.indexes DMV, which contains information used in the creation of the index. You can inspect the various user columns for a value of 0 to identify unused indexes. The impact of the system columns is again ignored for the reasons discussed above. The script shown in Figure 5 will let you identify the most costly unused indexes."
            ],
            "metadata": {
                "azdata_cell_guid": "a449f742-94c4-4258-a212-791c775c2995"
            }
        },
        {
            "cell_type": "code",
            "source": [
                "-- Create required table structure only. \r\n",
                "-- Note: this SQL must be the same as in the Database loop given in the following step. \r\n",
                "SELECT\r\n",
                "    TOP 1\r\n",
                "    DatabaseName = DB_NAME()\r\n",
                "     ,TableName = OBJECT_NAME(s.[object_id]) \r\n",
                "     ,IndexName = i.name \r\n",
                "     ,user_updates \r\n",
                "     ,system_updates \r\n",
                "   -- ,*\r\n",
                "INTO #TempUnusedIndexes\r\n",
                "FROM\r\n",
                "    sys.dm_db_index_usage_stats s\r\n",
                "    INNER JOIN sys.indexes i ON s.[object_id] = i.[object_id] AND s.index_id = i.index_id\r\n",
                "WHERE \r\n",
                "    s.database_id = DB_ID() \r\n",
                "    AND OBJECTPROPERTY(s.[object_id], 'IsMsShipped') = 0\r\n",
                "    AND user_seeks = 0 \r\n",
                "    AND user_scans = 0 \r\n",
                "    AND user_lookups = 0 \r\n",
                "    AND s.[object_id] = -999\r\n",
                "-- Dummy value to get table structure.\r\n",
                ";\r\n",
                "-- Loop around all the databases on the server. \r\n",
                "EXEC sp_MSForEachDB 'USE [?]; \r\n",
                "-- Table already exists. \r\n",
                "INSERT INTO #TempUnusedIndexes \r\n",
                "SELECT TOP 100 \r\n",
                "    DatabaseName = DB_NAME() ,\r\n",
                "    TableName = OBJECT_NAME(s.[object_id]) \r\n",
                "    ,IndexName = i.name \r\n",
                "    ,user_updates \r\n",
                "    ,system_updates \r\n",
                "FROM\r\n",
                "     sys.dm_db_index_usage_stats s\r\n",
                "    INNER JOIN sys.indexes i ON s.[object_id] = i.[object_id] AND s.index_id = i.index_id \r\n",
                "WHERE \r\n",
                "    s.database_id = DB_ID() \r\n",
                "    AND OBJECTPROPERTY(s.[object_id], ''IsMsShipped'') = 0 \r\n",
                "    AND user_seeks = 0\r\n",
                "     AND user_scans = 0 \r\n",
                "     AND user_lookups = 0 \r\n",
                "     AND i.name IS NOT NULL \r\n",
                "-- Ignore HEAP indexes. \r\n",
                "ORDER BY user_updates DESC ; '\r\n",
                "-- Select records. \r\n",
                "SELECT\r\n",
                "    TOP 100\r\n",
                "    *\r\n",
                "FROM\r\n",
                "    #TempUnusedIndexes\r\n",
                "ORDER BY [user_updates] DESC\r\n",
                "-- Tidy up.\r\n",
                "DROP TABLE #TempUnusedIndexes"
            ],
            "metadata": {
                "azdata_cell_guid": "f8903c59-6df9-47b1-9582-277079f4938f",
                "tags": []
            },
            "outputs": [
                {
                    "output_type": "display_data",
                    "data": {
                        "text/html": "(0 rows affected)"
                    },
                    "metadata": {}
                },
                {
                    "output_type": "display_data",
                    "data": {
                        "text/html": "The statement has been terminated."
                    },
                    "metadata": {}
                },
                {
                    "output_type": "display_data",
                    "data": {
                        "text/html": "(58 rows affected)"
                    },
                    "metadata": {}
                },
                {
                    "output_type": "display_data",
                    "data": {
                        "text/html": "Total execution time: 00:00:05.259"
                    },
                    "metadata": {}
                },
                {
                    "output_type": "execute_result",
                    "execution_count": 7,
                    "data": {
                        "application/vnd.dataresource+json": {
                            "schema": {
                                "fields": [
                                    {
                                        "name": "DatabaseName"
                                    },
                                    {
                                        "name": "TableName"
                                    },
                                    {
                                        "name": "IndexName"
                                    },
                                    {
                                        "name": "user_updates"
                                    },
                                    {
                                        "name": "system_updates"
                                    }
                                ]
                            },
                            "data": [
                                {
                                    "0": "CRM",
                                    "1": "Interacao",
                                    "2": "ix_tuning_02",
                                    "3": "782482",
                                    "4": "0"
                                },
                                {
                                    "0": "DBMon",
                                    "1": "CommandLog",
                                    "2": "IDX_CommandLog_01",
                                    "3": "158126",
                                    "4": "0"
                                },
                                {
                                    "0": "Senac_Producao",
                                    "1": "VW_PENDENCIAS_DIA_TURMA",
                                    "2": "IDX_VW_PEND_DIA_ALUNO",
                                    "3": "59918",
                                    "4": "0"
                                },
                                {
                                    "0": "Integrador",
                                    "1": "Execucao",
                                    "2": "IX_ConfiguracaoMetodo_Id",
                                    "3": "55738",
                                    "4": "0"
                                },
                                {
                                    "0": "CRM",
                                    "1": "Pessoa",
                                    "2": "IX_DataCadastro",
                                    "3": "51767",
                                    "4": "0"
                                },
                                {
                                    "0": "Integrador",
                                    "1": "Execucao",
                                    "2": "IX_Operador_Id",
                                    "3": "45296",
                                    "4": "0"
                                },
                                {
                                    "0": "Integracao_BlackBoard",
                                    "1": "RS_CURSOS_20EAD_LOG",
                                    "2": "PK_RS_CURSOS_20EADLOG",
                                    "3": "44696",
                                    "4": "0"
                                },
                                {
                                    "0": "CRM",
                                    "1": "Pessoa",
                                    "2": "IX_DataNascimento",
                                    "3": "42156",
                                    "4": "0"
                                },
                                {
                                    "0": "CRM",
                                    "1": "Pessoa",
                                    "2": "IX_Sexo",
                                    "3": "40776",
                                    "4": "0"
                                },
                                {
                                    "0": "Integracao_BlackBoard",
                                    "1": "RS_COMPONENTES_LOG",
                                    "2": "PK_RS_COMPONENTES_LOG",
                                    "3": "38576",
                                    "4": "0"
                                },
                                {
                                    "0": "CRM",
                                    "1": "ResultadoInteracaoInteracao",
                                    "2": "PK_dbo.ResultadoInteracaoInteracao",
                                    "3": "38440",
                                    "4": "0"
                                },
                                {
                                    "0": "CRM",
                                    "1": "ResultadoInteracaoInteracao",
                                    "2": "IX_ResultadoInteracao_Id",
                                    "3": "38440",
                                    "4": "0"
                                },
                                {
                                    "0": "Integracao_BlackBoard",
                                    "1": "RS_CURSOS_LOG",
                                    "2": "PK_RS_CURSOS_LOG",
                                    "3": "36728",
                                    "4": "0"
                                },
                                {
                                    "0": "CRM",
                                    "1": "Erro",
                                    "2": "IX_DataHora",
                                    "3": "33494",
                                    "4": "0"
                                },
                                {
                                    "0": "CRM",
                                    "1": "Endereco",
                                    "2": "IX_Endereco",
                                    "3": "16924",
                                    "4": "0"
                                },
                                {
                                    "0": "CRM",
                                    "1": "EsforcoVenda",
                                    "2": "IX_DataInicio",
                                    "3": "6576",
                                    "4": "0"
                                },
                                {
                                    "0": "CRM",
                                    "1": "EsforcoVenda",
                                    "2": "IX_DataTermino",
                                    "3": "6576",
                                    "4": "0"
                                },
                                {
                                    "0": "Wifi",
                                    "1": "USUARIOS",
                                    "2": "IX_USUARIOS",
                                    "3": "5311",
                                    "4": "0"
                                },
                                {
                                    "0": "Wifi",
                                    "1": "USUARIOS",
                                    "2": "IX_USUARIOS_1",
                                    "3": "5311",
                                    "4": "0"
                                },
                                {
                                    "0": "CRM",
                                    "1": "Auditoria",
                                    "2": "IX_DataOcorrencia",
                                    "3": "2690",
                                    "4": "0"
                                },
                                {
                                    "0": "CRM",
                                    "1": "Auditoria",
                                    "2": "IX_Usuario_Id",
                                    "3": "2690",
                                    "4": "0"
                                },
                                {
                                    "0": "Senac_Producao",
                                    "1": "LOG_MAIL",
                                    "2": "PK_LOG_MAIL",
                                    "3": "985",
                                    "4": "0"
                                },
                                {
                                    "0": "DBMon",
                                    "1": "TableGrowthData",
                                    "2": "PK_TableGrowthData",
                                    "3": "704",
                                    "4": "0"
                                },
                                {
                                    "0": "DBMon",
                                    "1": "TableGrowthData",
                                    "2": "IDX_TableGrowthData_01",
                                    "3": "704",
                                    "4": "0"
                                },
                                {
                                    "0": "CRM",
                                    "1": "HistoricoPerfil",
                                    "2": "IX_DataFim",
                                    "3": "675",
                                    "4": "0"
                                },
                                {
                                    "0": "CRM",
                                    "1": "log_unifica_pessoa_oportunidades",
                                    "2": "log_unifica_pessoa_oportunidades_PK",
                                    "3": "629",
                                    "4": "0"
                                },
                                {
                                    "0": "CRM",
                                    "1": "log_unifica_pessoa_oportunidades",
                                    "2": "log_unifica_pessoa_oportunidades_oportunidadeId_IDX",
                                    "3": "629",
                                    "4": "0"
                                },
                                {
                                    "0": "CRM",
                                    "1": "log_unifica_pessoa_oportunidades",
                                    "2": "log_unifica_pessoa_oportunidades_dataLog_IDX",
                                    "3": "629",
                                    "4": "0"
                                },
                                {
                                    "0": "CRM",
                                    "1": "log_unifica_pessoa",
                                    "2": "log_unifica_pessoa_PK",
                                    "3": "629",
                                    "4": "0"
                                },
                                {
                                    "0": "CRM",
                                    "1": "GestaoVenda",
                                    "2": "IX_DataCriacao",
                                    "3": "231",
                                    "4": "0"
                                },
                                {
                                    "0": "CRM",
                                    "1": "GestaoVenda",
                                    "2": "IX_FiltroDataFim",
                                    "3": "231",
                                    "4": "0"
                                },
                                {
                                    "0": "CRM",
                                    "1": "GestaoVenda",
                                    "2": "IX_FiltroDataInicio",
                                    "3": "231",
                                    "4": "0"
                                },
                                {
                                    "0": "CRM",
                                    "1": "GestaoVenda",
                                    "2": "IX_Operador_Id",
                                    "3": "231",
                                    "4": "0"
                                },
                                {
                                    "0": "DataStore",
                                    "1": "DELETETRACKER",
                                    "2": "c5",
                                    "3": "105",
                                    "4": "0"
                                },
                                {
                                    "0": "Senac_Producao",
                                    "1": "LOG_ERROSALUNO",
                                    "2": "PK_LOG_ERROSALUNO",
                                    "3": "105",
                                    "4": "0"
                                },
                                {
                                    "0": "Senac_Producao",
                                    "1": "LOG_ERROSTURMA",
                                    "2": "PK_LOG_ERROSTURMA",
                                    "3": "105",
                                    "4": "0"
                                },
                                {
                                    "0": "Senac_Producao",
                                    "1": "LOG_ERROSCURSOS",
                                    "2": "PK_LOG_ERROSCURSOS",
                                    "3": "105",
                                    "4": "0"
                                },
                                {
                                    "0": "Senac_Producao",
                                    "1": "LOG_ERROSUNIDADE",
                                    "2": "PK_LOG_ERROSUNIDADE",
                                    "3": "105",
                                    "4": "0"
                                },
                                {
                                    "0": "Senac_Producao",
                                    "1": "LOG_GERADOR",
                                    "2": "PK_LOG_GERADOR",
                                    "3": "87",
                                    "4": "0"
                                },
                                {
                                    "0": "Integracao_BlackBoard",
                                    "1": "ACESSO_PERMISSAO",
                                    "2": "PERMISSAO_PK",
                                    "3": "87",
                                    "4": "0"
                                },
                                {
                                    "0": "PIMv2",
                                    "1": "OcorrenciaLog",
                                    "2": "PK__Ocorrenc__3214EC07742F31CF",
                                    "3": "67",
                                    "4": "0"
                                },
                                {
                                    "0": "Senac_Producao",
                                    "1": "CAD_PRODUCAO_DADOS",
                                    "2": "IX_CAD_PRODUCAO_DADOS_1",
                                    "3": "62",
                                    "4": "0"
                                },
                                {
                                    "0": "DBMon",
                                    "1": "DatabaseGrowthData",
                                    "2": "PK_GrowthDBData",
                                    "3": "44",
                                    "4": "0"
                                },
                                {
                                    "0": "Senac_Producao",
                                    "1": "CAD_PRODUCAO_CONSOLIDADA_ALUNO",
                                    "2": "IX_CAD_PRODUCAO_CONSOLIDADA_ALUNO_2",
                                    "3": "42",
                                    "4": "0"
                                },
                                {
                                    "0": "Senac_Producao",
                                    "1": "LOG_EXTRATO_TURMAS",
                                    "2": "IX_LOG_EXTRATO_TURMAS_4",
                                    "3": "39",
                                    "4": "0"
                                },
                                {
                                    "0": "Senac_Producao",
                                    "1": "CAD_PRODUCAO_CONSOLIDADA_ALUNO",
                                    "2": "IX_CAD_PRODUCAO_CONSOLIDADA_ALUNO",
                                    "3": "35",
                                    "4": "0"
                                },
                                {
                                    "0": "Senac_Producao",
                                    "1": "CAD_PRODUCAO_CONSOLIDADA_ALUNO",
                                    "2": "IX_CAD_PRODUCAO_CONSOLIDADA_ALUNO_4",
                                    "3": "35",
                                    "4": "0"
                                },
                                {
                                    "0": "Senac_Producao",
                                    "1": "CAD_PRODUCAO_DN_ALUNOS",
                                    "2": "IX_CAD_PRODUCAO_DN_ALUNOS_2",
                                    "3": "32",
                                    "4": "0"
                                },
                                {
                                    "0": "PainelGestao",
                                    "1": "PerfilUsuario",
                                    "2": "IX_Perfil_Id",
                                    "3": "23",
                                    "4": "0"
                                },
                                {
                                    "0": "Senac_Producao",
                                    "1": "CAD_TURMAS_UNIDADE",
                                    "2": "IX_CAD_TURMAS_UNIDADE_1",
                                    "3": "16",
                                    "4": "0"
                                },
                                {
                                    "0": "Senac_Producao",
                                    "1": "CAD_TURMAS_UNIDADE",
                                    "2": "IX_CAD_TURMAS_UNIDADE_2",
                                    "3": "16",
                                    "4": "0"
                                },
                                {
                                    "0": "Senac_Producao",
                                    "1": "CAD_TURMAS_UNIDADE",
                                    "2": "IX_CAD_TURMAS_UNIDADE_3",
                                    "3": "16",
                                    "4": "0"
                                },
                                {
                                    "0": "Senac_Producao",
                                    "1": "ACT_LOTEJOB",
                                    "2": "PK_ACT_LOTEJOB",
                                    "3": "3",
                                    "4": "0"
                                },
                                {
                                    "0": "API_GENERICA",
                                    "1": "CAD_METODOS",
                                    "2": "UK_CAD_METODOS_METODO_IDINF_VERBOS_IDCAD_SERVICOS",
                                    "3": "3",
                                    "4": "0"
                                },
                                {
                                    "0": "API_GENERICA",
                                    "1": "CAD_FONTEDADOS",
                                    "2": "UK_CAD_FONTEDADOS_IDCAD_SISTEMAS_FONTEDADOS",
                                    "3": "1",
                                    "4": "0"
                                },
                                {
                                    "0": "API_GENERICA",
                                    "1": "CAD_FONTEDADOS",
                                    "2": "UK_CAD_FONTEDADOS_IDCAD_SISTEMAS_FONTEDADOS_SERVIDOR_USUARIO_BANCODADOS",
                                    "3": "1",
                                    "4": "0"
                                },
                                {
                                    "0": "API_GENERICA",
                                    "1": "CAD_SISTEMAS",
                                    "2": "UK_CAD_SISTEMAS_NOME_SISTEMA",
                                    "3": "1",
                                    "4": "0"
                                },
                                {
                                    "0": "API_GENERICA",
                                    "1": "CAD_SISTEMAS",
                                    "2": "UK_CAD_SISTEMAS_IDCCA",
                                    "3": "1",
                                    "4": "0"
                                }
                            ]
                        },
                        "text/html": "<table><tr><th>DatabaseName</th><th>TableName</th><th>IndexName</th><th>user_updates</th><th>system_updates</th></tr><tr><td>CRM</td><td>Interacao</td><td>ix_tuning_02</td><td>782482</td><td>0</td></tr><tr><td>DBMon</td><td>CommandLog</td><td>IDX_CommandLog_01</td><td>158126</td><td>0</td></tr><tr><td>Senac_Producao</td><td>VW_PENDENCIAS_DIA_TURMA</td><td>IDX_VW_PEND_DIA_ALUNO</td><td>59918</td><td>0</td></tr><tr><td>Integrador</td><td>Execucao</td><td>IX_ConfiguracaoMetodo_Id</td><td>55738</td><td>0</td></tr><tr><td>CRM</td><td>Pessoa</td><td>IX_DataCadastro</td><td>51767</td><td>0</td></tr><tr><td>Integrador</td><td>Execucao</td><td>IX_Operador_Id</td><td>45296</td><td>0</td></tr><tr><td>Integracao_BlackBoard</td><td>RS_CURSOS_20EAD_LOG</td><td>PK_RS_CURSOS_20EADLOG</td><td>44696</td><td>0</td></tr><tr><td>CRM</td><td>Pessoa</td><td>IX_DataNascimento</td><td>42156</td><td>0</td></tr><tr><td>CRM</td><td>Pessoa</td><td>IX_Sexo</td><td>40776</td><td>0</td></tr><tr><td>Integracao_BlackBoard</td><td>RS_COMPONENTES_LOG</td><td>PK_RS_COMPONENTES_LOG</td><td>38576</td><td>0</td></tr><tr><td>CRM</td><td>ResultadoInteracaoInteracao</td><td>PK_dbo.ResultadoInteracaoInteracao</td><td>38440</td><td>0</td></tr><tr><td>CRM</td><td>ResultadoInteracaoInteracao</td><td>IX_ResultadoInteracao_Id</td><td>38440</td><td>0</td></tr><tr><td>Integracao_BlackBoard</td><td>RS_CURSOS_LOG</td><td>PK_RS_CURSOS_LOG</td><td>36728</td><td>0</td></tr><tr><td>CRM</td><td>Erro</td><td>IX_DataHora</td><td>33494</td><td>0</td></tr><tr><td>CRM</td><td>Endereco</td><td>IX_Endereco</td><td>16924</td><td>0</td></tr><tr><td>CRM</td><td>EsforcoVenda</td><td>IX_DataInicio</td><td>6576</td><td>0</td></tr><tr><td>CRM</td><td>EsforcoVenda</td><td>IX_DataTermino</td><td>6576</td><td>0</td></tr><tr><td>Wifi</td><td>USUARIOS</td><td>IX_USUARIOS</td><td>5311</td><td>0</td></tr><tr><td>Wifi</td><td>USUARIOS</td><td>IX_USUARIOS_1</td><td>5311</td><td>0</td></tr><tr><td>CRM</td><td>Auditoria</td><td>IX_DataOcorrencia</td><td>2690</td><td>0</td></tr><tr><td>CRM</td><td>Auditoria</td><td>IX_Usuario_Id</td><td>2690</td><td>0</td></tr><tr><td>Senac_Producao</td><td>LOG_MAIL</td><td>PK_LOG_MAIL</td><td>985</td><td>0</td></tr><tr><td>DBMon</td><td>TableGrowthData</td><td>PK_TableGrowthData</td><td>704</td><td>0</td></tr><tr><td>DBMon</td><td>TableGrowthData</td><td>IDX_TableGrowthData_01</td><td>704</td><td>0</td></tr><tr><td>CRM</td><td>HistoricoPerfil</td><td>IX_DataFim</td><td>675</td><td>0</td></tr><tr><td>CRM</td><td>log_unifica_pessoa_oportunidades</td><td>log_unifica_pessoa_oportunidades_PK</td><td>629</td><td>0</td></tr><tr><td>CRM</td><td>log_unifica_pessoa_oportunidades</td><td>log_unifica_pessoa_oportunidades_oportunidadeId_IDX</td><td>629</td><td>0</td></tr><tr><td>CRM</td><td>log_unifica_pessoa_oportunidades</td><td>log_unifica_pessoa_oportunidades_dataLog_IDX</td><td>629</td><td>0</td></tr><tr><td>CRM</td><td>log_unifica_pessoa</td><td>log_unifica_pessoa_PK</td><td>629</td><td>0</td></tr><tr><td>CRM</td><td>GestaoVenda</td><td>IX_DataCriacao</td><td>231</td><td>0</td></tr><tr><td>CRM</td><td>GestaoVenda</td><td>IX_FiltroDataFim</td><td>231</td><td>0</td></tr><tr><td>CRM</td><td>GestaoVenda</td><td>IX_FiltroDataInicio</td><td>231</td><td>0</td></tr><tr><td>CRM</td><td>GestaoVenda</td><td>IX_Operador_Id</td><td>231</td><td>0</td></tr><tr><td>DataStore</td><td>DELETETRACKER</td><td>c5</td><td>105</td><td>0</td></tr><tr><td>Senac_Producao</td><td>LOG_ERROSALUNO</td><td>PK_LOG_ERROSALUNO</td><td>105</td><td>0</td></tr><tr><td>Senac_Producao</td><td>LOG_ERROSTURMA</td><td>PK_LOG_ERROSTURMA</td><td>105</td><td>0</td></tr><tr><td>Senac_Producao</td><td>LOG_ERROSCURSOS</td><td>PK_LOG_ERROSCURSOS</td><td>105</td><td>0</td></tr><tr><td>Senac_Producao</td><td>LOG_ERROSUNIDADE</td><td>PK_LOG_ERROSUNIDADE</td><td>105</td><td>0</td></tr><tr><td>Senac_Producao</td><td>LOG_GERADOR</td><td>PK_LOG_GERADOR</td><td>87</td><td>0</td></tr><tr><td>Integracao_BlackBoard</td><td>ACESSO_PERMISSAO</td><td>PERMISSAO_PK</td><td>87</td><td>0</td></tr><tr><td>PIMv2</td><td>OcorrenciaLog</td><td>PK__Ocorrenc__3214EC07742F31CF</td><td>67</td><td>0</td></tr><tr><td>Senac_Producao</td><td>CAD_PRODUCAO_DADOS</td><td>IX_CAD_PRODUCAO_DADOS_1</td><td>62</td><td>0</td></tr><tr><td>DBMon</td><td>DatabaseGrowthData</td><td>PK_GrowthDBData</td><td>44</td><td>0</td></tr><tr><td>Senac_Producao</td><td>CAD_PRODUCAO_CONSOLIDADA_ALUNO</td><td>IX_CAD_PRODUCAO_CONSOLIDADA_ALUNO_2</td><td>42</td><td>0</td></tr><tr><td>Senac_Producao</td><td>LOG_EXTRATO_TURMAS</td><td>IX_LOG_EXTRATO_TURMAS_4</td><td>39</td><td>0</td></tr><tr><td>Senac_Producao</td><td>CAD_PRODUCAO_CONSOLIDADA_ALUNO</td><td>IX_CAD_PRODUCAO_CONSOLIDADA_ALUNO</td><td>35</td><td>0</td></tr><tr><td>Senac_Producao</td><td>CAD_PRODUCAO_CONSOLIDADA_ALUNO</td><td>IX_CAD_PRODUCAO_CONSOLIDADA_ALUNO_4</td><td>35</td><td>0</td></tr><tr><td>Senac_Producao</td><td>CAD_PRODUCAO_DN_ALUNOS</td><td>IX_CAD_PRODUCAO_DN_ALUNOS_2</td><td>32</td><td>0</td></tr><tr><td>PainelGestao</td><td>PerfilUsuario</td><td>IX_Perfil_Id</td><td>23</td><td>0</td></tr><tr><td>Senac_Producao</td><td>CAD_TURMAS_UNIDADE</td><td>IX_CAD_TURMAS_UNIDADE_1</td><td>16</td><td>0</td></tr><tr><td>Senac_Producao</td><td>CAD_TURMAS_UNIDADE</td><td>IX_CAD_TURMAS_UNIDADE_2</td><td>16</td><td>0</td></tr><tr><td>Senac_Producao</td><td>CAD_TURMAS_UNIDADE</td><td>IX_CAD_TURMAS_UNIDADE_3</td><td>16</td><td>0</td></tr><tr><td>Senac_Producao</td><td>ACT_LOTEJOB</td><td>PK_ACT_LOTEJOB</td><td>3</td><td>0</td></tr><tr><td>API_GENERICA</td><td>CAD_METODOS</td><td>UK_CAD_METODOS_METODO_IDINF_VERBOS_IDCAD_SERVICOS</td><td>3</td><td>0</td></tr><tr><td>API_GENERICA</td><td>CAD_FONTEDADOS</td><td>UK_CAD_FONTEDADOS_IDCAD_SISTEMAS_FONTEDADOS</td><td>1</td><td>0</td></tr><tr><td>API_GENERICA</td><td>CAD_FONTEDADOS</td><td>UK_CAD_FONTEDADOS_IDCAD_SISTEMAS_FONTEDADOS_SERVIDOR_USUARIO_BANCODADOS</td><td>1</td><td>0</td></tr><tr><td>API_GENERICA</td><td>CAD_SISTEMAS</td><td>UK_CAD_SISTEMAS_NOME_SISTEMA</td><td>1</td><td>0</td></tr><tr><td>API_GENERICA</td><td>CAD_SISTEMAS</td><td>UK_CAD_SISTEMAS_IDCCA</td><td>1</td><td>0</td></tr></table>"
                    },
                    "metadata": {}
                },
                {
                    "output_type": "error",
                    "ename": "",
                    "evalue": "Msg 1222, Level 16, State 56, Line 3\r\nLock request time out period exceeded.",
                    "traceback": []
                }
            ],
            "execution_count": 7
        },
        {
            "cell_type": "markdown",
            "source": [
                "The results of this query show the indexes that have not been used to retrieve data but have been updated as a result of changes in the underlying table. These updates are shown in the user\\_updates and system\\_updates columns. The results are sorted by the number of user updates that have been applied to the index.\n",
                "\n",
                "You must collect enough information to ensure that the index is not used—you don't want to inadvertently remove an index that is perhaps critical for a query that is run only quarterly or annually. Also, note that some indexes are used to constrain the insertion of duplicate records or for ordering of data; these factors must also be considered before removing any unused indexes.\n",
                "\n",
                "The basic form of the query is applied only to the current database, since it joins to the sys.indexes DMV, which is only concerned with the current database. You can extract results for all the databases on the server using the system stored procedure sp\\_MSForEachDB. The pattern I use to do this is explained in the sidebar \"Looping through All Databases\". I use this pattern in other sections of the script as well where I want to iterate over all the databases on the server. Additionally, I filtered out indexes that are of type heap, since these represent the native structure of a table without a formal index."
            ],
            "metadata": {
                "azdata_cell_guid": "3ccdd289-a793-498e-b491-71e1039fcf86"
            }
        },
        {
            "cell_type": "markdown",
            "source": [
                "## **Costly Used Indexes**\n",
                "\n",
                "It can also be helpful to identify the indexes (among those that are used) that are most costly in terms of changes to the underlying tables. This cost has a negative impact on performance, but the index itself may be important for data retrieval.\n",
                "\n",
                "The sys.dm\\_db\\_index\\_usage\\_stats DMV lets you see how often and to what extent indexes are used. This DMV is joined to the sys.indexes DMV, which contains details used in the creation of the index. Inspecting the user\\_updates and system\\_updates columns will show the indexes that are highest maintenance. Figure 6 provides the script used to identify the most costly indexes and shows the results."
            ],
            "metadata": {
                "azdata_cell_guid": "22ecd59b-2160-4f71-a0ff-7baecf493caa"
            }
        },
        {
            "cell_type": "code",
            "source": [
                "-- Create required table structure only. \r\n",
                "-- Note: this SQL must be the same as in the Database loop given in the following step. \r\n",
                "SELECT TOP 1\r\n",
                "  [Maintenance cost] = (user_updates + system_updates),\r\n",
                "  [Retrieval usage] = (user_seeks + user_scans + user_lookups),\r\n",
                "  DatabaseName = DB_NAME(),\r\n",
                "  TableName = OBJECT_NAME(s.[object_id]),\r\n",
                "  IndexName = i.name \r\n",
                "  INTO #TempMaintenanceCost\r\n",
                "FROM sys.dm_db_index_usage_stats s\r\n",
                "INNER JOIN sys.indexes i\r\n",
                "  ON s.[object_id] = i.[object_id]\r\n",
                "  AND s.index_id = i.index_id\r\n",
                "WHERE s.database_id = DB_ID()\r\n",
                "AND OBJECTPROPERTY(s.[object_id],'IsMsShipped') = 0\r\n",
                "AND (user_updates + system_updates) > 0\r\n",
                "-- Only report on active rows.\r\n",
                "AND s.[object_id] = -999\r\n",
                "-- Dummy value to get table structure.\r\n",
                ";\r\n",
                "-- Loop around all the databases on the server.\r\n",
                "EXEC sp_MSForEachDB 'USE [?]; \r\n",
                "-- Table already exists.\r\n",
                "INSERT INTO #TempMaintenanceCost SELECT TOP 10 [Maintenance cost] = \r\n",
                "(user_updates + system_updates) ,[Retrieval usage] = (user_seeks + user_scans + user_lookups) ,\r\n",
                "DatabaseName = DB_NAME() ,TableName = OBJECT_NAME(s.[object_id]) ,\r\n",
                "IndexName = i.name FROM sys.dm_db_index_usage_stats s INNER JOIN sys.indexes i \r\n",
                "ON s.[object_id] = i.[object_id] AND s.index_id = i.index_id WHERE s.database_id = DB_ID() \r\n",
                "AND i.name IS NOT NULL \r\n",
                "-- Ignore HEAP indexes.\r\n",
                "AND OBJECTPROPERTY(s.[object_id], ''IsMsShipped'') = 0 \r\n",
                "AND (user_updates + system_updates) > 0 \r\n",
                "-- Only report on active rows.\r\n",
                "ORDER BY [Maintenance cost] DESC ; '\r\n",
                "-- Select records.\r\n",
                "SELECT TOP 10 *\r\n",
                "FROM #TempMaintenanceCost\r\n",
                "ORDER BY [Maintenance cost] DESC\r\n",
                "-- Tidy up. \r\n",
                "DROP TABLE #TempMaintenanceCost"
            ],
            "metadata": {
                "azdata_cell_guid": "80d5a808-a14c-4ae8-b90a-4df66cd6e355",
                "tags": []
            },
            "outputs": [
                {
                    "output_type": "display_data",
                    "data": {
                        "text/html": "(0 rows affected)"
                    },
                    "metadata": {}
                },
                {
                    "output_type": "display_data",
                    "data": {
                        "text/html": "The statement has been terminated."
                    },
                    "metadata": {}
                },
                {
                    "output_type": "display_data",
                    "data": {
                        "text/html": "(10 rows affected)"
                    },
                    "metadata": {}
                },
                {
                    "output_type": "display_data",
                    "data": {
                        "text/html": "Total execution time: 00:00:06.726"
                    },
                    "metadata": {}
                },
                {
                    "output_type": "execute_result",
                    "execution_count": 5,
                    "data": {
                        "application/vnd.dataresource+json": {
                            "schema": {
                                "fields": [
                                    {
                                        "name": "Maintenance cost"
                                    },
                                    {
                                        "name": "Retrieval usage"
                                    },
                                    {
                                        "name": "DatabaseName"
                                    },
                                    {
                                        "name": "TableName"
                                    },
                                    {
                                        "name": "IndexName"
                                    }
                                ]
                            },
                            "data": [
                                {
                                    "0": "8648779",
                                    "1": "9713707",
                                    "2": "Senac_Producao",
                                    "3": "REF_ERROSALUNO",
                                    "4": "PK_REF_ERROSALUNO_1"
                                },
                                {
                                    "0": "938123",
                                    "1": "887117",
                                    "2": "Integracao_BlackBoard",
                                    "3": "CAD_INTEGRACAONOTAS",
                                    "4": "CAD_INTEGRACAONOTAS_PK"
                                },
                                {
                                    "0": "781913",
                                    "1": "6553572",
                                    "2": "CRM",
                                    "3": "Interacao",
                                    "4": "PK_dbo.Interacao"
                                },
                                {
                                    "0": "781913",
                                    "1": "239296",
                                    "2": "CRM",
                                    "3": "Interacao",
                                    "4": "IX_Data"
                                },
                                {
                                    "0": "781913",
                                    "1": "1259027",
                                    "2": "CRM",
                                    "3": "Interacao",
                                    "4": "IX_Interacao"
                                },
                                {
                                    "0": "781913",
                                    "1": "2104971",
                                    "2": "CRM",
                                    "3": "Interacao",
                                    "4": "ix_tuning_03"
                                },
                                {
                                    "0": "781913",
                                    "1": "4770476",
                                    "2": "CRM",
                                    "3": "Interacao",
                                    "4": "ix_tuning_10"
                                },
                                {
                                    "0": "781808",
                                    "1": "0",
                                    "2": "CRM",
                                    "3": "Interacao",
                                    "4": "ix_tuning_02"
                                },
                                {
                                    "0": "781808",
                                    "1": "17607",
                                    "2": "CRM",
                                    "3": "Interacao",
                                    "4": "ix_tuning_01"
                                },
                                {
                                    "0": "781808",
                                    "1": "960496",
                                    "2": "CRM",
                                    "3": "Interacao",
                                    "4": "IX_Oportunidade_Id"
                                }
                            ]
                        },
                        "text/html": "<table><tr><th>Maintenance cost</th><th>Retrieval usage</th><th>DatabaseName</th><th>TableName</th><th>IndexName</th></tr><tr><td>8648779</td><td>9713707</td><td>Senac_Producao</td><td>REF_ERROSALUNO</td><td>PK_REF_ERROSALUNO_1</td></tr><tr><td>938123</td><td>887117</td><td>Integracao_BlackBoard</td><td>CAD_INTEGRACAONOTAS</td><td>CAD_INTEGRACAONOTAS_PK</td></tr><tr><td>781913</td><td>6553572</td><td>CRM</td><td>Interacao</td><td>PK_dbo.Interacao</td></tr><tr><td>781913</td><td>239296</td><td>CRM</td><td>Interacao</td><td>IX_Data</td></tr><tr><td>781913</td><td>1259027</td><td>CRM</td><td>Interacao</td><td>IX_Interacao</td></tr><tr><td>781913</td><td>2104971</td><td>CRM</td><td>Interacao</td><td>ix_tuning_03</td></tr><tr><td>781913</td><td>4770476</td><td>CRM</td><td>Interacao</td><td>ix_tuning_10</td></tr><tr><td>781808</td><td>0</td><td>CRM</td><td>Interacao</td><td>ix_tuning_02</td></tr><tr><td>781808</td><td>17607</td><td>CRM</td><td>Interacao</td><td>ix_tuning_01</td></tr><tr><td>781808</td><td>960496</td><td>CRM</td><td>Interacao</td><td>IX_Oportunidade_Id</td></tr></table>"
                    },
                    "metadata": {}
                },
                {
                    "output_type": "error",
                    "ename": "",
                    "evalue": "Msg 1222, Level 16, State 56, Line 3\r\nLock request time out period exceeded.",
                    "traceback": []
                }
            ],
            "execution_count": 5
        },
        {
            "cell_type": "markdown",
            "source": [
                "## **Costly Queries by I/O**\n",
                "\n",
                "I/O is a measure of the number of reads/writes a query makes. This can be used as an indicator of how efficient a query is—queries that use a lot of I/O are often good subjects for performance improvements.\n",
                "\n",
                "The sys.dm\\_exec\\_query\\_stats DMV provides aggregate performance statistics for cached query plans, including details about physical and logical reads/writes and the number of times the query has executed. It contains offsets used to extract the actual SQL from its contained parent SQL. This DMV is joined to the sys.dm\\_exec\\_sql\\_text DMF, which contains information about the SQL batch that the I/O relates to. The various offsets are applied to this batch to obtain the underlying individual SQL queries. The script is shown in Figure 9. The results, which are sorted by average I/O, show the average I/O, total I/O, individual query, parent query (if individual query is part of a batch), and the database name."
            ],
            "metadata": {
                "azdata_cell_guid": "c0f19d1c-846f-4374-8632-294495d301d6"
            }
        },
        {
            "cell_type": "code",
            "source": [
                "SELECT TOP 30\r\n",
                "  [Average IO] = (total_logical_reads + total_logical_writes) / qs.execution_count,\r\n",
                "  [Total IO] = (total_logical_reads + total_logical_writes),\r\n",
                "  [Execution count] = qs.execution_count,\r\n",
                "  [Individual Query] = SUBSTRING(qt.text, qs.statement_start_offset / 2, (CASE\r\n",
                "    WHEN qs.statement_end_offset = -1 THEN LEN(CONVERT(nvarchar(max), qt.text)) * 2\r\n",
                "    ELSE qs.statement_end_offset\r\n",
                "  END - qs.statement_start_offset) / 2),\r\n",
                "  [Parent Query] = qt.text,\r\n",
                "  DatabaseName = DB_NAME(qt.dbid)\r\n",
                "FROM sys.dm_exec_query_stats qs\r\n",
                "CROSS APPLY sys.dm_exec_sql_text(qs.sql_handle) AS qt\r\n",
                "ORDER BY [Average IO] DESC;"
            ],
            "metadata": {
                "azdata_cell_guid": "f6845ac7-3b48-4284-97f9-147f9d73a43e",
                "tags": []
            },
            "outputs": [
                {
                    "output_type": "display_data",
                    "data": {
                        "text/html": "(0 rows affected)"
                    },
                    "metadata": {}
                },
                {
                    "output_type": "display_data",
                    "data": {
                        "text/html": "Total execution time: 00:00:07.865"
                    },
                    "metadata": {}
                },
                {
                    "output_type": "execute_result",
                    "execution_count": 7,
                    "data": {
                        "application/vnd.dataresource+json": {
                            "schema": {
                                "fields": [
                                    {
                                        "name": "Average IO"
                                    },
                                    {
                                        "name": "Total IO"
                                    },
                                    {
                                        "name": "Execution count"
                                    },
                                    {
                                        "name": "Individual Query"
                                    },
                                    {
                                        "name": "Parent Query"
                                    },
                                    {
                                        "name": "DatabaseName"
                                    }
                                ]
                            },
                            "data": []
                        },
                        "text/html": "<table><tr><th>Average IO</th><th>Total IO</th><th>Execution count</th><th>Individual Query</th><th>Parent Query</th><th>DatabaseName</th></tr></table>"
                    },
                    "metadata": {}
                }
            ],
            "execution_count": 7
        },
        {
            "cell_type": "markdown",
            "source": [
                "## **Costly Queries by CPU**\n",
                "\n",
                "Another rather useful approach that you can take is to analyze the most costly queries in terms of CPU usage. This approach can be very indicative of queries that are performing poorly. The DMVs that I will use here are the same as the ones I just used for examining queries in terms of I/O. The query that you see in Figure 10 allows you to identify the most costly queries as measured by CPU usage."
            ],
            "metadata": {
                "azdata_cell_guid": "04f392a8-60b9-4559-b85d-bd0ff4543dd3"
            }
        },
        {
            "cell_type": "code",
            "source": [
                "SELECT\n",
                "    TOP 20\r\n",
                "    [Average CPU used] = total_worker_time / qs.execution_count\r\n",
                "    ,[Total CPU used] = total_worker_time\r\n",
                "    ,[Execution count] = qs.execution_count\r\n",
                "    ,[Individual Query] = SUBSTRING(qt.text, qs.statement_start_offset / 2, (CASE\r\n",
                "    WHEN qs.statement_end_offset = -1 THEN LEN(CONVERT(NVARCHAR(max), qt.text)) * 2\r\n",
                "    ELSE qs.statement_end_offset\r\n",
                "  END - qs.statement_start_offset) / 2)\r\n",
                "    ,[Parent Query] = qt.text\r\n",
                "    ,DatabaseName = DB_NAME(qt.dbid)\r\n",
                "FROM\n",
                "    sys.dm_exec_query_stats qs\r\n",
                "CROSS APPLY sys.dm_exec_sql_text(qs.sql_handle) AS qt\r\n",
                "ORDER BY [Average CPU used] DESC;"
            ],
            "metadata": {
                "azdata_cell_guid": "2bbdd85f-c87c-4e65-8dc9-4ff823e24a93",
                "tags": []
            },
            "outputs": [],
            "execution_count": 5
        }
    ]
}